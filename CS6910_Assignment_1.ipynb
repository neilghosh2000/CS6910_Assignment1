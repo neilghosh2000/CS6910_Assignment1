{
  "nbformat": 4,
  "nbformat_minor": 0,
  "metadata": {
    "colab": {
      "name": "CS6910_Assignment_1.ipynb",
      "provenance": [],
      "collapsed_sections": [],
      "include_colab_link": true
    },
    "kernelspec": {
      "display_name": "Python 3",
      "name": "python3"
    }
  },
  "cells": [
    {
      "cell_type": "markdown",
      "metadata": {
        "id": "view-in-github",
        "colab_type": "text"
      },
      "source": [
        "<a href=\"https://colab.research.google.com/github/neilghosh2000/CS6910_Assignment1/blob/main/CS6910_Assignment_1.ipynb\" target=\"_parent\"><img src=\"https://colab.research.google.com/assets/colab-badge.svg\" alt=\"Open In Colab\"/></a>"
      ]
    },
    {
      "cell_type": "code",
      "metadata": {
        "colab": {
          "base_uri": "https://localhost:8080/"
        },
        "id": "Tz5NGtA3mdTa",
        "outputId": "f34b5ba3-9d81-4f51-c821-19b7d88c5fe2"
      },
      "source": [
        "!pip install wandb"
      ],
      "execution_count": 4,
      "outputs": [
        {
          "output_type": "stream",
          "text": [
            "Collecting wandb\n",
            "\u001b[?25l  Downloading https://files.pythonhosted.org/packages/33/ae/79374d2b875e638090600eaa2a423479865b7590c53fb78e8ccf6a64acb1/wandb-0.10.22-py2.py3-none-any.whl (2.0MB)\n",
            "\u001b[K     |████████████████████████████████| 2.0MB 6.3MB/s \n",
            "\u001b[?25hRequirement already satisfied: Click>=7.0 in /usr/local/lib/python3.7/dist-packages (from wandb) (7.1.2)\n",
            "Requirement already satisfied: PyYAML in /usr/local/lib/python3.7/dist-packages (from wandb) (3.13)\n",
            "Requirement already satisfied: six>=1.13.0 in /usr/local/lib/python3.7/dist-packages (from wandb) (1.15.0)\n",
            "Collecting sentry-sdk>=0.4.0\n",
            "\u001b[?25l  Downloading https://files.pythonhosted.org/packages/f3/92/5a33be64990ba815364a8f2dd9e6f51de60d23dfddafb4f1fc5577d4dc64/sentry_sdk-1.0.0-py2.py3-none-any.whl (131kB)\n",
            "\u001b[K     |████████████████████████████████| 133kB 32.9MB/s \n",
            "\u001b[?25hRequirement already satisfied: requests<3,>=2.0.0 in /usr/local/lib/python3.7/dist-packages (from wandb) (2.23.0)\n",
            "Collecting GitPython>=1.0.0\n",
            "\u001b[?25l  Downloading https://files.pythonhosted.org/packages/a6/99/98019716955ba243657daedd1de8f3a88ca1f5b75057c38e959db22fb87b/GitPython-3.1.14-py3-none-any.whl (159kB)\n",
            "\u001b[K     |████████████████████████████████| 163kB 20.2MB/s \n",
            "\u001b[?25hRequirement already satisfied: protobuf>=3.12.0 in /usr/local/lib/python3.7/dist-packages (from wandb) (3.12.4)\n",
            "Collecting pathtools\n",
            "  Downloading https://files.pythonhosted.org/packages/e7/7f/470d6fcdf23f9f3518f6b0b76be9df16dcc8630ad409947f8be2eb0ed13a/pathtools-0.1.2.tar.gz\n",
            "Requirement already satisfied: promise<3,>=2.0 in /usr/local/lib/python3.7/dist-packages (from wandb) (2.3)\n",
            "Requirement already satisfied: psutil>=5.0.0 in /usr/local/lib/python3.7/dist-packages (from wandb) (5.4.8)\n",
            "Requirement already satisfied: python-dateutil>=2.6.1 in /usr/local/lib/python3.7/dist-packages (from wandb) (2.8.1)\n",
            "Collecting docker-pycreds>=0.4.0\n",
            "  Downloading https://files.pythonhosted.org/packages/f5/e8/f6bd1eee09314e7e6dee49cbe2c5e22314ccdb38db16c9fc72d2fa80d054/docker_pycreds-0.4.0-py2.py3-none-any.whl\n",
            "Collecting configparser>=3.8.1\n",
            "  Downloading https://files.pythonhosted.org/packages/fd/01/ff260a18caaf4457eb028c96eeb405c4a230ca06c8ec9c1379f813caa52e/configparser-5.0.2-py3-none-any.whl\n",
            "Collecting shortuuid>=0.5.0\n",
            "  Downloading https://files.pythonhosted.org/packages/25/a6/2ecc1daa6a304e7f1b216f0896b26156b78e7c38e1211e9b798b4716c53d/shortuuid-1.0.1-py3-none-any.whl\n",
            "Collecting subprocess32>=3.5.3\n",
            "\u001b[?25l  Downloading https://files.pythonhosted.org/packages/32/c8/564be4d12629b912ea431f1a50eb8b3b9d00f1a0b1ceff17f266be190007/subprocess32-3.5.4.tar.gz (97kB)\n",
            "\u001b[K     |████████████████████████████████| 102kB 8.4MB/s \n",
            "\u001b[?25hRequirement already satisfied: certifi in /usr/local/lib/python3.7/dist-packages (from sentry-sdk>=0.4.0->wandb) (2020.12.5)\n",
            "Requirement already satisfied: urllib3>=1.10.0 in /usr/local/lib/python3.7/dist-packages (from sentry-sdk>=0.4.0->wandb) (1.24.3)\n",
            "Requirement already satisfied: idna<3,>=2.5 in /usr/local/lib/python3.7/dist-packages (from requests<3,>=2.0.0->wandb) (2.10)\n",
            "Requirement already satisfied: chardet<4,>=3.0.2 in /usr/local/lib/python3.7/dist-packages (from requests<3,>=2.0.0->wandb) (3.0.4)\n",
            "Collecting gitdb<5,>=4.0.1\n",
            "\u001b[?25l  Downloading https://files.pythonhosted.org/packages/48/11/d1800bca0a3bae820b84b7d813ad1eff15a48a64caea9c823fc8c1b119e8/gitdb-4.0.5-py3-none-any.whl (63kB)\n",
            "\u001b[K     |████████████████████████████████| 71kB 7.2MB/s \n",
            "\u001b[?25hRequirement already satisfied: setuptools in /usr/local/lib/python3.7/dist-packages (from protobuf>=3.12.0->wandb) (54.0.0)\n",
            "Collecting smmap<4,>=3.0.1\n",
            "  Downloading https://files.pythonhosted.org/packages/d5/1e/6130925131f639b2acde0f7f18b73e33ce082ff2d90783c436b52040af5a/smmap-3.0.5-py2.py3-none-any.whl\n",
            "Building wheels for collected packages: pathtools, subprocess32\n",
            "  Building wheel for pathtools (setup.py) ... \u001b[?25l\u001b[?25hdone\n",
            "  Created wheel for pathtools: filename=pathtools-0.1.2-cp37-none-any.whl size=8786 sha256=5596545d124bf93bf4cb4058bbcd368a16f83f58060f898f01c4da9c760c678b\n",
            "  Stored in directory: /root/.cache/pip/wheels/0b/04/79/c3b0c3a0266a3cb4376da31e5bfe8bba0c489246968a68e843\n",
            "  Building wheel for subprocess32 (setup.py) ... \u001b[?25l\u001b[?25hdone\n",
            "  Created wheel for subprocess32: filename=subprocess32-3.5.4-cp37-none-any.whl size=6489 sha256=a3a9eb502d53ed3d79a4e7c06f849d13ce2c14dffc57efb6244fbf6eddf3604b\n",
            "  Stored in directory: /root/.cache/pip/wheels/68/39/1a/5e402bdfdf004af1786c8b853fd92f8c4a04f22aad179654d1\n",
            "Successfully built pathtools subprocess32\n",
            "Installing collected packages: sentry-sdk, smmap, gitdb, GitPython, pathtools, docker-pycreds, configparser, shortuuid, subprocess32, wandb\n",
            "Successfully installed GitPython-3.1.14 configparser-5.0.2 docker-pycreds-0.4.0 gitdb-4.0.5 pathtools-0.1.2 sentry-sdk-1.0.0 shortuuid-1.0.1 smmap-3.0.5 subprocess32-3.5.4 wandb-0.10.22\n"
          ],
          "name": "stdout"
        }
      ]
    },
    {
      "cell_type": "code",
      "metadata": {
        "id": "RJtWVhtWXehv"
      },
      "source": [
        "# the best set of hyperparameters that we get from the sweep\r\n",
        "default_parameters = dict(\r\n",
        "    n_layers= 4,\r\n",
        "    hidden_layer_size= 128,\r\n",
        "    learn_rate= 1e-3,\r\n",
        "    batch_size = 16,\r\n",
        "    epochs=10,\r\n",
        "    alpha = 0,\r\n",
        "    optimizer = \"nadam\",\r\n",
        "    activation = \"relu\",\r\n",
        "    weight_init = \"random\"\r\n",
        "    )\r\n",
        "config = default_parameters"
      ],
      "execution_count": 1,
      "outputs": []
    },
    {
      "cell_type": "code",
      "metadata": {
        "id": "OylGz6A0Dtb9"
      },
      "source": [
        "import wandb\r\n",
        "import numpy as np\r\n",
        "import pickle\r\n",
        "import matplotlib.pyplot as plt\r\n",
        "from keras.datasets import fashion_mnist"
      ],
      "execution_count": 6,
      "outputs": []
    },
    {
      "cell_type": "code",
      "metadata": {
        "colab": {
          "base_uri": "https://localhost:8080/",
          "height": 185
        },
        "id": "kTE0HVHfXh3S",
        "outputId": "42cd3a08-d51b-400d-c9a6-96be2bb9821b"
      },
      "source": [
        "run = wandb.init(config= default_parameters,project=\"cs6910_assignment_1\", entity=\"neilghosh\")\r\n",
        "config = wandb.config"
      ],
      "execution_count": 7,
      "outputs": [
        {
          "output_type": "display_data",
          "data": {
            "application/javascript": [
              "\n",
              "        window._wandbApiKey = new Promise((resolve, reject) => {\n",
              "            function loadScript(url) {\n",
              "            return new Promise(function(resolve, reject) {\n",
              "                let newScript = document.createElement(\"script\");\n",
              "                newScript.onerror = reject;\n",
              "                newScript.onload = resolve;\n",
              "                document.body.appendChild(newScript);\n",
              "                newScript.src = url;\n",
              "            });\n",
              "            }\n",
              "            loadScript(\"https://cdn.jsdelivr.net/npm/postmate/build/postmate.min.js\").then(() => {\n",
              "            const iframe = document.createElement('iframe')\n",
              "            iframe.style.cssText = \"width:0;height:0;border:none\"\n",
              "            document.body.appendChild(iframe)\n",
              "            const handshake = new Postmate({\n",
              "                container: iframe,\n",
              "                url: 'https://wandb.ai/authorize'\n",
              "            });\n",
              "            const timeout = setTimeout(() => reject(\"Couldn't auto authenticate\"), 5000)\n",
              "            handshake.then(function(child) {\n",
              "                child.on('authorize', data => {\n",
              "                    clearTimeout(timeout)\n",
              "                    resolve(data)\n",
              "                });\n",
              "            });\n",
              "            })\n",
              "        });\n",
              "    "
            ],
            "text/plain": [
              "<IPython.core.display.Javascript object>"
            ]
          },
          "metadata": {
            "tags": []
          }
        },
        {
          "output_type": "stream",
          "text": [
            "\u001b[34m\u001b[1mwandb\u001b[0m: You can find your API key in your browser here: https://wandb.ai/authorize\n"
          ],
          "name": "stderr"
        },
        {
          "output_type": "stream",
          "text": [
            "wandb: Paste an API key from your profile and hit enter: ··········\n"
          ],
          "name": "stdout"
        },
        {
          "output_type": "stream",
          "text": [
            "\u001b[34m\u001b[1mwandb\u001b[0m: Appending key for api.wandb.ai to your netrc file: /root/.netrc\n"
          ],
          "name": "stderr"
        },
        {
          "output_type": "display_data",
          "data": {
            "text/html": [
              "\n",
              "                Tracking run with wandb version 0.10.22<br/>\n",
              "                Syncing run <strong style=\"color:#cdcd00\">floral-elevator-319</strong> to <a href=\"https://wandb.ai\" target=\"_blank\">Weights & Biases</a> <a href=\"https://docs.wandb.com/integrations/jupyter.html\" target=\"_blank\">(Documentation)</a>.<br/>\n",
              "                Project page: <a href=\"https://wandb.ai/neilghosh/cs6910_assignment_1\" target=\"_blank\">https://wandb.ai/neilghosh/cs6910_assignment_1</a><br/>\n",
              "                Run page: <a href=\"https://wandb.ai/neilghosh/cs6910_assignment_1/runs/3jionqk2\" target=\"_blank\">https://wandb.ai/neilghosh/cs6910_assignment_1/runs/3jionqk2</a><br/>\n",
              "                Run data is saved locally in <code>/content/wandb/run-20210313_065628-3jionqk2</code><br/><br/>\n",
              "            "
            ],
            "text/plain": [
              "<IPython.core.display.HTML object>"
            ]
          },
          "metadata": {
            "tags": []
          }
        }
      ]
    },
    {
      "cell_type": "code",
      "metadata": {
        "id": "r0X8wGjVGJDf",
        "colab": {
          "base_uri": "https://localhost:8080/"
        },
        "outputId": "0edbdf4e-63c2-4dc0-ebc2-042466497c7a"
      },
      "source": [
        "#import the data\r\n",
        "(train_images, train_labels), (test_images, test_labels) = fashion_mnist.load_data()\r\n",
        "\r\n",
        "#class names\r\n",
        "class_names = ['T-shirt/top', 'Trouser', 'Pullover', 'Dress', 'Coat',\r\n",
        "               'Sandal', 'Shirt', 'Sneaker', 'Bag', 'Ankle boot']\r\n"
      ],
      "execution_count": 8,
      "outputs": [
        {
          "output_type": "stream",
          "text": [
            "Downloading data from https://storage.googleapis.com/tensorflow/tf-keras-datasets/train-labels-idx1-ubyte.gz\n",
            "32768/29515 [=================================] - 0s 0us/step\n",
            "Downloading data from https://storage.googleapis.com/tensorflow/tf-keras-datasets/train-images-idx3-ubyte.gz\n",
            "26427392/26421880 [==============================] - 0s 0us/step\n",
            "Downloading data from https://storage.googleapis.com/tensorflow/tf-keras-datasets/t10k-labels-idx1-ubyte.gz\n",
            "8192/5148 [===============================================] - 0s 0us/step\n",
            "Downloading data from https://storage.googleapis.com/tensorflow/tf-keras-datasets/t10k-images-idx3-ubyte.gz\n",
            "4423680/4422102 [==============================] - 0s 0us/step\n"
          ],
          "name": "stdout"
        }
      ]
    },
    {
      "cell_type": "code",
      "metadata": {
        "colab": {
          "base_uri": "https://localhost:8080/",
          "height": 289
        },
        "id": "qvIW2rnL5O-C",
        "outputId": "c1141e4c-95d1-4c8e-e28d-2d21cc33f2e1"
      },
      "source": [
        "# plot one sample image from each class arnesh\r\n",
        "sample_images = []\r\n",
        "plt.figure(figsize=(10,5))\r\n",
        "for i in range(len(class_names)):\r\n",
        "    sample_images.append(train_labels.tolist().index(i))\r\n",
        "    plt.subplot(2, 5, i+1)\r\n",
        "    plt.xticks([])\r\n",
        "    plt.yticks([])\r\n",
        "    plt.grid(False)\r\n",
        "    plt.imshow(train_images[sample_images[i]], cmap=plt.cm.binary)\r\n",
        "    plt.xlabel(class_names[train_labels[sample_images[i]]])\r\n",
        "\r\n",
        "wandb.log({\"sample_images\": plt})"
      ],
      "execution_count": 9,
      "outputs": [
        {
          "output_type": "display_data",
          "data": {
            "image/png": "[encoded data removed]",
            "text/plain": [
              "<Figure size 720x360 with 10 Axes>"
            ]
          },
          "metadata": {
            "tags": []
          }
        }
      ]
    },
    {
      "cell_type": "code",
      "metadata": {
        "id": "4imZB0mnKMzw"
      },
      "source": [
        "def one_hot_vector(x):\r\n",
        "  y = np.zeros((x.size, x.max()+1))\r\n",
        "  y[np.arange(x.size),x] = 1\r\n",
        "  return y"
      ],
      "execution_count": 10,
      "outputs": []
    },
    {
      "cell_type": "code",
      "metadata": {
        "id": "-TURP1gZDx19"
      },
      "source": [
        "input_size = train_images.shape[1]*train_images.shape[2]\r\n",
        "output_size = len(class_names)\r\n",
        "\r\n",
        "train_x = train_images.reshape([train_images.shape[0], input_size, 1])/255\r\n",
        "test_x = test_images.reshape([test_images.shape[0], input_size, 1])/255\r\n",
        "\r\n",
        "# shuffle the training data\r\n",
        "indices = np.arange(train_x.shape[0])\r\n",
        "np.random.shuffle(indices)\r\n",
        "\r\n",
        "train_y = one_hot_vector(train_labels)\r\n",
        "test_y = one_hot_vector(test_labels)\r\n",
        "\r\n",
        "train_x = train_x[indices]\r\n",
        "train_y = train_y[indices]\r\n",
        "\r\n",
        "train_y = np.dstack([train_y])\r\n",
        "test_y = np.dstack([test_y])\r\n",
        "\r\n",
        "val_x = train_x[int(len(train_x)*0.9):,:,:]\r\n",
        "val_y = train_y[int(len(train_y)*0.9):,:,:]\r\n",
        "\r\n",
        "train_x = train_x[:int(len(train_x)*0.9),:,:]\r\n",
        "train_y = train_y[:int(len(train_y)*0.9),:,:]"
      ],
      "execution_count": 12,
      "outputs": []
    },
    {
      "cell_type": "code",
      "metadata": {
        "id": "O6PZpVg6YIcH"
      },
      "source": [
        "nn_layers = [{\"input_dim\" : input_size, \"output_dim\" : config.hidden_layer_size, \"activation\" : config.activation}]\r\n",
        "for i in range(config.n_layers-1):\r\n",
        "  nn_layers.append({\"input_dim\" : config.hidden_layer_size, \"output_dim\" : config.hidden_layer_size, \"activation\" : config.activation})\r\n",
        "nn_layers.append({\"input_dim\" : config.hidden_layer_size, \"output_dim\" : output_size, \"activation\" : \"softmax\"})\r\n"
      ],
      "execution_count": 14,
      "outputs": []
    },
    {
      "cell_type": "code",
      "metadata": {
        "id": "U_IQUlNd3RiF"
      },
      "source": [
        "def init_layers(nn_layers, weight_init, seed = 45):\r\n",
        "    np.random.seed(seed)\r\n",
        "    weights = {}\r\n",
        "\r\n",
        "    for i, layer in enumerate(nn_layers):\r\n",
        "        layer_no = i + 1\r\n",
        "        layer_input_size = layer[\"input_dim\"]\r\n",
        "        layer_output_size = layer[\"output_dim\"]\r\n",
        "\r\n",
        "        if weight_init == \"random\":\r\n",
        "          weights['w' + str(layer_no)] = np.random.randn(layer_output_size, layer_input_size) * 0.1\r\n",
        "          weights['b' + str(layer_no)] = np.random.randn(layer_output_size, 1) * 0.1\r\n",
        "        elif weight_init == \"xavier\":\r\n",
        "          limit = np.sqrt(6/(layer_input_size + layer_output_size))\r\n",
        "          weights['w' + str(layer_no)] = np.random.uniform(-limit, limit, size=(layer_output_size, layer_input_size))\r\n",
        "          weights['b' + str(layer_no)] = np.random.uniform(-limit, limit, size=(layer_output_size, 1))\r\n",
        "        else:\r\n",
        "          return \"Error - Weight Initialization\"\r\n",
        "\r\n",
        "    return weights"
      ],
      "execution_count": 16,
      "outputs": []
    },
    {
      "cell_type": "code",
      "metadata": {
        "id": "GhNlOGf1Pzim"
      },
      "source": [
        "def activation_func(z, activation=\"sigmoid\"):\r\n",
        "    if activation == \"sigmoid\":\r\n",
        "        return 1 / (1 + np.exp(-z))\r\n",
        "    elif activation == \"softmax\":\r\n",
        "        z1 = np.exp(z)\r\n",
        "        z2 = z1.sum(axis=1)\r\n",
        "        z2 = np.dstack([z2])\r\n",
        "        return z1/z2\r\n",
        "    elif activation == \"tanh\":\r\n",
        "        return (np.exp(z) - np.exp(-z)) / (np.exp(z) + np.exp(-z))\r\n",
        "    elif activation == \"relu\":\r\n",
        "        return np.maximum(0, z)\r\n",
        "\r\n",
        "    else:\r\n",
        "        return \"Error\"\r\n",
        "\r\n",
        "def activation_derivative(z, activation=\"sigmoid\"):\r\n",
        "    if activation == \"sigmoid\":\r\n",
        "      sig = 1 / (1 + np.exp(-z))\r\n",
        "      return sig*(1-sig)\r\n",
        "    elif activation == \"tanh\":\r\n",
        "      tanh = (np.exp(z) - np.exp(-z)) / (np.exp(z) + np.exp(-z))\r\n",
        "      return 1 - tanh**2\r\n",
        "    elif activation == \"relu\":\r\n",
        "      relu = np.maximum(0, z)\r\n",
        "      relu[relu > 0] = 1\r\n",
        "      return relu\r\n",
        "    else:\r\n",
        "      return \"Error\"\r\n"
      ],
      "execution_count": 11,
      "outputs": []
    },
    {
      "cell_type": "code",
      "metadata": {
        "id": "7GFem9XQSzZ3"
      },
      "source": [
        "def forward_prop(train_x, weights, nn_layers):\r\n",
        "    layer_output = {}\r\n",
        "    h_curr = train_x\r\n",
        "\r\n",
        "    layer_output[\"h0\"] = train_x\r\n",
        "    layer_output[\"a0\"] = train_x\r\n",
        "\r\n",
        "    for i, layer in enumerate(nn_layers):\r\n",
        "        layer_no = i + 1\r\n",
        "        h_prev = h_curr\r\n",
        "\r\n",
        "        activation = layer[\"activation\"]\r\n",
        "        w_curr = weights[\"w\" + str(layer_no)]\r\n",
        "        b_curr = weights[\"b\" + str(layer_no)]\r\n",
        "\r\n",
        "        a_curr = np.matmul(w_curr, h_prev) + b_curr\r\n",
        "        h_curr = activation_func(a_curr, activation)\r\n",
        "\r\n",
        "        layer_output[\"a\" + str(layer_no)] = a_curr\r\n",
        "        layer_output[\"h\" + str(layer_no)] = h_curr\r\n",
        "\r\n",
        "    return h_curr, layer_output"
      ],
      "execution_count": 17,
      "outputs": []
    },
    {
      "cell_type": "code",
      "metadata": {
        "id": "IWsjJKH2WDUP"
      },
      "source": [
        "# cross entropy loss + regularization\r\n",
        "\r\n",
        "def loss_func(y_hat, y, alpha, weights, nn_layers):\r\n",
        "    cross_entropy = -np.multiply(y, np.log(y_hat)).sum() / len(y_hat)\r\n",
        "\r\n",
        "    l2_reg = 0\r\n",
        "    for i, layer in enumerate(nn_layers):\r\n",
        "        layer_no = i + 1\r\n",
        "        l2_reg += np.sum(weights[\"w\" + str(layer_no)] ** 2)\r\n",
        "\r\n",
        "    l2_reg = (alpha / 2) * l2_reg / len(y_hat)\r\n",
        "\r\n",
        "    return cross_entropy + l2_reg\r\n",
        "\r\n",
        "# accuracy\r\n",
        "def accuracy_func(y_hat, train_y):\r\n",
        "    correct_pred = np.argmax(y_hat, axis = 1) == np.argmax(train_y, axis = 1)\r\n",
        "    return sum(bool(x) for x in correct_pred)/len(y_hat)"
      ],
      "execution_count": 18,
      "outputs": []
    },
    {
      "cell_type": "code",
      "metadata": {
        "id": "pkgqoh355X8-"
      },
      "source": [
        "def back_prop(y_hat, y, layer_output, weights, nn_layers, alpha):\r\n",
        "    gradients = {}\r\n",
        "\r\n",
        "    da_prev = -(y - y_hat)\r\n",
        "\r\n",
        "    m = len(y_hat)\r\n",
        "\r\n",
        "    for i, layer in reversed(list(enumerate(nn_layers))):\r\n",
        "        layer_index = i + 1\r\n",
        "\r\n",
        "        da_curr = da_prev\r\n",
        "\r\n",
        "        a_prev = layer_output[\"a\" + str(i)]\r\n",
        "        h_prev = layer_output[\"h\" + str(i)]\r\n",
        "        dh_prev = np.zeros(h_prev.shape)\r\n",
        "\r\n",
        "        a_curr = layer_output[\"a\" + str(layer_index)]\r\n",
        "        w_curr = weights[\"w\" + str(layer_index)]\r\n",
        "        b_curr = weights[\"b\" + str(layer_index)]\r\n",
        "        dw_curr = np.zeros(w_curr.shape)\r\n",
        "        db_curr = np.zeros(b_curr.shape)\r\n",
        "\r\n",
        "        for j in range(m):\r\n",
        "            dw_curr += np.dot(da_curr[j], h_prev[j].T)\r\n",
        "            db_curr += da_curr[j]\r\n",
        "            dh_prev[j] = np.dot(w_curr.T, da_curr[j])\r\n",
        "\r\n",
        "        dw_curr += alpha * w_curr\r\n",
        "\r\n",
        "        dw_curr /= m\r\n",
        "        db_curr /= m\r\n",
        "\r\n",
        "        if i > 0:\r\n",
        "            activation = nn_layers[i - 1][\"activation\"]\r\n",
        "            da_prev = np.multiply(dh_prev, activation_derivative(a_prev, activation))\r\n",
        "\r\n",
        "        gradients[\"dw\" + str(layer_index)] = dw_curr\r\n",
        "        gradients[\"db\" + str(layer_index)] = db_curr\r\n",
        "\r\n",
        "    return gradients\r\n"
      ],
      "execution_count": 19,
      "outputs": []
    },
    {
      "cell_type": "code",
      "metadata": {
        "id": "zDkhAt5187Ia"
      },
      "source": [
        "def gradient_descent(train_x, train_y, test_x, test_y, weights, nn_layers, eta, epochs, n_batches, alpha):\r\n",
        "\r\n",
        "  training_loss_list = []\r\n",
        "  training_accuracy_list = []\r\n",
        "  validation_loss_list = []\r\n",
        "  validation_accuracy_list = []\r\n",
        "\r\n",
        "  batch_x = np.array(np.array_split(train_x, n_batches))\r\n",
        "  batch_y = np.array(np.array_split(train_y, n_batches))\r\n",
        "\r\n",
        "  for i in range(epochs):\r\n",
        "    for j in range(n_batches):\r\n",
        "\r\n",
        "        y_hat, layer_output = forward_prop(batch_x[j], weights, nn_layers)\r\n",
        "        gradients = back_prop(y_hat, batch_y[j], layer_output, weights, nn_layers, alpha)\r\n",
        "\r\n",
        "        for k, layer in enumerate(nn_layers):\r\n",
        "          weights[\"w\" + str(k+1)] -= eta * gradients[\"dw\" + str(k+1)]        \r\n",
        "          weights[\"b\" + str(k+1)] -= eta * gradients[\"db\" + str(k+1)]\r\n",
        "\r\n",
        "        print(j)\r\n",
        "\r\n",
        "    training_loss, training_accuracy, validation_loss, validation_accuracy = calculate_loss_accuracy(train_x, train_y, test_x, test_y, weights, nn_layers, alpha)\r\n",
        "\r\n",
        "    training_loss_list.append(training_loss)\r\n",
        "    training_accuracy_list.append(training_accuracy)\r\n",
        "    validation_loss_list.append(validation_loss)\r\n",
        "    validation_accuracy_list.append(validation_accuracy)\r\n",
        "\r\n",
        "    print((str(i+1)) + \"/\" + str(epochs) + \" epochs completed\")\r\n",
        "\r\n",
        "  return weights, training_loss_list, training_accuracy_list, validation_loss_list, validation_accuracy_list\r\n"
      ],
      "execution_count": 20,
      "outputs": []
    },
    {
      "cell_type": "code",
      "metadata": {
        "id": "VbDUJb7TJk42"
      },
      "source": [
        "def calculate_loss_accuracy(train_x, train_y, test_x, test_y, weights, nn_layers, alpha):\r\n",
        "\r\n",
        "    y_hat, layer_output = forward_prop(train_x, weights, nn_layers)\r\n",
        "    training_loss = (loss_func(y_hat, train_y, alpha, weights, nn_layers))\r\n",
        "    training_accuracy = (accuracy_func(y_hat, train_y))\r\n",
        "\r\n",
        "    y_hat, layer_output = forward_prop(test_x, weights, nn_layers)\r\n",
        "    val_loss = (loss_func(y_hat, test_y, alpha, weights, nn_layers))\r\n",
        "    val_accuracy = (accuracy_func(y_hat, test_y))\r\n",
        "\r\n",
        "    wandb.log({\"train_loss\": training_loss, \"train_accuracy\": training_accuracy, \"val_loss\": val_loss, \"val_accuracy\": val_accuracy})\r\n",
        "\r\n",
        "    return training_loss, training_accuracy, val_loss, val_accuracy\r\n"
      ],
      "execution_count": 21,
      "outputs": []
    },
    {
      "cell_type": "code",
      "metadata": {
        "id": "PhHapYC5aeUG"
      },
      "source": [
        "def momentum_gd(train_x, train_y, test_x, test_y, weights, nn_layers, eta, epochs, n_batches, alpha):\r\n",
        "\r\n",
        "  training_loss_list = []\r\n",
        "  training_accuracy_list = []\r\n",
        "  validation_loss_list = []\r\n",
        "  validation_accuracy_list = []\r\n",
        "\r\n",
        "  batch_x = np.array(np.array_split(train_x, n_batches))\r\n",
        "  batch_y = np.array(np.array_split(train_y, n_batches))\r\n",
        "\r\n",
        "  prev_weights = {}\r\n",
        "\r\n",
        "  gamma = 0.9\r\n",
        "\r\n",
        "  for k, layer in enumerate(nn_layers):\r\n",
        "          prev_weights[\"w\" + str(k+1)] = np.zeros(weights[\"w\" + str(k+1)].shape)    \r\n",
        "          prev_weights[\"b\" + str(k+1)] = np.zeros(weights[\"b\" + str(k+1)].shape) \r\n",
        "\r\n",
        "  for i in range(epochs):\r\n",
        "    for j in range(n_batches):\r\n",
        "\r\n",
        "        y_hat, layer_output = forward_prop(batch_x[j], weights, nn_layers)\r\n",
        "        gradients = back_prop(y_hat, batch_y[j], layer_output, weights, nn_layers, alpha)\r\n",
        "\r\n",
        "        for k, layer in enumerate(nn_layers):\r\n",
        "          prev_weights[\"w\" + str(k+1)] = gamma * prev_weights[\"w\" + str(k+1)] + eta * gradients[\"dw\" + str(k+1)]     \r\n",
        "          prev_weights[\"b\" + str(k+1)] = gamma * prev_weights[\"b\" + str(k+1)] + eta * gradients[\"db\" + str(k+1)]   \r\n",
        "\r\n",
        "          weights[\"w\" + str(k+1)] -= prev_weights[\"w\" + str(k+1)]        \r\n",
        "          weights[\"b\" + str(k+1)] -= prev_weights[\"b\" + str(k+1)]\r\n",
        "\r\n",
        "\r\n",
        "    training_loss, training_accuracy, validation_loss, validation_accuracy = calculate_loss_accuracy(train_x, train_y, test_x, test_y, weights, nn_layers, alpha)\r\n",
        "\r\n",
        "    training_loss_list.append(training_loss)\r\n",
        "    training_accuracy_list.append(training_accuracy)\r\n",
        "    validation_loss_list.append(validation_loss)\r\n",
        "    validation_accuracy_list.append(validation_accuracy)\r\n",
        "\r\n",
        "    print((str(i+1)) + \"/\" + str(epochs) + \" completed\")\r\n",
        "\r\n",
        "  return weights, training_loss_list, training_accuracy_list, validation_loss_list, validation_accuracy_list"
      ],
      "execution_count": 22,
      "outputs": []
    },
    {
      "cell_type": "code",
      "metadata": {
        "id": "Lh6zj8KEab_a"
      },
      "source": [
        "def nesterov_gd(train_x, train_y, test_x, test_y, weights, nn_layers, eta, epochs, n_batches, alpha):\r\n",
        "\r\n",
        "  training_loss_list = []\r\n",
        "  training_accuracy_list = []\r\n",
        "  validation_loss_list = []\r\n",
        "  validation_accuracy_list = []\r\n",
        "\r\n",
        "  batch_x = np.array(np.array_split(train_x, n_batches))\r\n",
        "  batch_y = np.array(np.array_split(train_y, n_batches))\r\n",
        "\r\n",
        "  prev_weights = {}\r\n",
        "  look_ahead_w = {}\r\n",
        "  \r\n",
        "  gamma = 0.9\r\n",
        "\r\n",
        "  for k, layer in enumerate(nn_layers):\r\n",
        "          prev_weights[\"w\" + str(k+1)] = np.zeros(weights[\"w\" + str(k+1)].shape)    \r\n",
        "          prev_weights[\"b\" + str(k+1)] = np.zeros(weights[\"b\" + str(k+1)].shape) \r\n",
        "\r\n",
        "  for i in range(epochs):\r\n",
        "    for j in range(n_batches):\r\n",
        "\r\n",
        "        for k, layer in enumerate(nn_layers):\r\n",
        "          look_ahead_w[\"w\" + str(k+1)] = weights[\"w\" + str(k+1)] - gamma * prev_weights[\"w\" + str(k+1)]\r\n",
        "          look_ahead_w[\"b\" + str(k+1)] = weights[\"b\" + str(k+1)] - gamma * prev_weights[\"b\" + str(k+1)]\r\n",
        "\r\n",
        "        y_hat, layer_output = forward_prop(batch_x[j], look_ahead_w, nn_layers)\r\n",
        "        gradients = back_prop(y_hat, batch_y[j], layer_output, look_ahead_w, nn_layers, alpha)\r\n",
        "\r\n",
        "        for k, layer in enumerate(nn_layers):\r\n",
        "          prev_weights[\"w\" + str(k+1)] = gamma * prev_weights[\"w\" + str(k+1)] + eta * gradients[\"dw\" + str(k+1)]     \r\n",
        "          prev_weights[\"b\" + str(k+1)] = gamma * prev_weights[\"b\" + str(k+1)] + eta * gradients[\"db\" + str(k+1)]   \r\n",
        "\r\n",
        "          weights[\"w\" + str(k+1)] -= prev_weights[\"w\" + str(k+1)]        \r\n",
        "          weights[\"b\" + str(k+1)] -= prev_weights[\"b\" + str(k+1)]\r\n",
        "\r\n",
        "\r\n",
        "    training_loss, training_accuracy, validation_loss, validation_accuracy = calculate_loss_accuracy(train_x, train_y, test_x, test_y, weights, nn_layers, alpha)\r\n",
        "\r\n",
        "    training_loss_list.append(training_loss)\r\n",
        "    training_accuracy_list.append(training_accuracy)\r\n",
        "    validation_loss_list.append(validation_loss)\r\n",
        "    validation_accuracy_list.append(validation_accuracy)\r\n",
        "\r\n",
        "    print((str(i+1)) + \"/\" + str(epochs) + \" completed\")\r\n",
        "\r\n",
        "  return weights, training_loss_list, training_accuracy_list, validation_loss_list, validation_accuracy_list"
      ],
      "execution_count": 23,
      "outputs": []
    },
    {
      "cell_type": "code",
      "metadata": {
        "id": "MNdJAhPvaaL0"
      },
      "source": [
        "def rmsprop(train_x, train_y, test_x, test_y, weights, nn_layers, eta, epochs, n_batches, alpha):\r\n",
        "\r\n",
        "  training_loss_list = []\r\n",
        "  training_accuracy_list = []\r\n",
        "  validation_loss_list = []\r\n",
        "  validation_accuracy_list = []\r\n",
        "\r\n",
        "  batch_x = np.array(np.array_split(train_x, n_batches))\r\n",
        "  batch_y = np.array(np.array_split(train_y, n_batches))\r\n",
        "\r\n",
        "  v = {}\r\n",
        "\r\n",
        "  beta = 0.9\r\n",
        "  epsilon = 1e-8\r\n",
        "\r\n",
        "  for k, layer in enumerate(nn_layers):\r\n",
        "          v[\"w\" + str(k+1)] = np.zeros(weights[\"w\" + str(k+1)].shape)    \r\n",
        "          v[\"b\" + str(k+1)] = np.zeros(weights[\"b\" + str(k+1)].shape) \r\n",
        "\r\n",
        "  for i in range(epochs):\r\n",
        "    for j in range(n_batches):\r\n",
        "\r\n",
        "        y_hat, layer_output = forward_prop(batch_x[j], weights, nn_layers)\r\n",
        "        gradients = back_prop(y_hat, batch_y[j], layer_output, weights, nn_layers, alpha)\r\n",
        "\r\n",
        "        for k, layer in enumerate(nn_layers):\r\n",
        "          v[\"w\" + str(k+1)] = beta * v[\"w\" + str(k+1)] + (1-beta) * gradients[\"dw\" + str(k+1)]**2     \r\n",
        "          v[\"b\" + str(k+1)] = beta * v[\"b\" + str(k+1)] + (1-beta) * gradients[\"db\" + str(k+1)]**2   \r\n",
        "\r\n",
        "          weights[\"w\" + str(k+1)] -= eta * np.divide(gradients[\"dw\" + str(k+1)], np.sqrt(v[\"w\" + str(k+1)] + epsilon))        \r\n",
        "          weights[\"b\" + str(k+1)] -= eta * np.divide(gradients[\"db\" + str(k+1)], np.sqrt(v[\"b\" + str(k+1)] + epsilon))\r\n",
        "\r\n",
        "\r\n",
        "    training_loss, training_accuracy, validation_loss, validation_accuracy = calculate_loss_accuracy(train_x, train_y, test_x, test_y, weights, nn_layers, alpha)\r\n",
        "\r\n",
        "    training_loss_list.append(training_loss)\r\n",
        "    training_accuracy_list.append(training_accuracy)\r\n",
        "    validation_loss_list.append(validation_loss)\r\n",
        "    validation_accuracy_list.append(validation_accuracy)\r\n",
        "\r\n",
        "    print((str(i+1)) + \"/\" + str(epochs) + \" completed\")\r\n",
        "\r\n",
        "  return weights, training_loss_list, training_accuracy_list, validation_loss_list, validation_accuracy_list"
      ],
      "execution_count": 24,
      "outputs": []
    },
    {
      "cell_type": "code",
      "metadata": {
        "id": "x-knM5XaaYiC"
      },
      "source": [
        "def adam(train_x, train_y, test_x, test_y, weights, nn_layers, eta, epochs, n_batches, alpha):\r\n",
        "\r\n",
        "  training_loss_list = []\r\n",
        "  training_accuracy_list = []\r\n",
        "  validation_loss_list = []\r\n",
        "  validation_accuracy_list = []\r\n",
        "\r\n",
        "  batch_x = np.array(np.array_split(train_x, n_batches))\r\n",
        "  batch_y = np.array(np.array_split(train_y, n_batches))\r\n",
        "\r\n",
        "  v = {}\r\n",
        "  v_hat = {}\r\n",
        "  m = {}\r\n",
        "  m_hat = {}\r\n",
        "\r\n",
        "  beta1 = 0.9\r\n",
        "  beta2 = 0.999\r\n",
        "  epsilon = 1e-8\r\n",
        "\r\n",
        "  for k, layer in enumerate(nn_layers):\r\n",
        "          v[\"w\" + str(k+1)] = np.zeros(weights[\"w\" + str(k+1)].shape)    \r\n",
        "          v[\"b\" + str(k+1)] = np.zeros(weights[\"b\" + str(k+1)].shape)\r\n",
        "          m[\"w\" + str(k+1)] = np.zeros(weights[\"w\" + str(k+1)].shape)    \r\n",
        "          m[\"b\" + str(k+1)] = np.zeros(weights[\"b\" + str(k+1)].shape) \r\n",
        "\r\n",
        "  t = 0\r\n",
        "\r\n",
        "  for i in range(epochs):\r\n",
        "    for j in range(n_batches):\r\n",
        "\r\n",
        "        t += 1\r\n",
        "\r\n",
        "        y_hat, layer_output = forward_prop(batch_x[j], weights, nn_layers)\r\n",
        "        gradients = back_prop(y_hat, batch_y[j], layer_output, weights, nn_layers, alpha)\r\n",
        "\r\n",
        "        for k, layer in enumerate(nn_layers):\r\n",
        "          v[\"w\" + str(k+1)] = beta2 * v[\"w\" + str(k+1)] + (1-beta2) * gradients[\"dw\" + str(k+1)]**2     \r\n",
        "          v[\"b\" + str(k+1)] = beta2 * v[\"b\" + str(k+1)] + (1-beta2) * gradients[\"db\" + str(k+1)]**2 \r\n",
        "\r\n",
        "          m[\"w\" + str(k+1)] = beta1 * m[\"w\" + str(k+1)] + (1-beta1) * gradients[\"dw\" + str(k+1)]    \r\n",
        "          m[\"b\" + str(k+1)] = beta1 * m[\"b\" + str(k+1)] + (1-beta1) * gradients[\"db\" + str(k+1)] \r\n",
        "\r\n",
        "          v_hat[\"w\" + str(k+1)] = np.divide(v[\"w\" + str(k+1)], (1-beta2**t))\r\n",
        "          v_hat[\"b\" + str(k+1)] = np.divide(v[\"b\" + str(k+1)], (1-beta2**t))\r\n",
        "\r\n",
        "          m_hat[\"w\" + str(k+1)] = np.divide(m[\"w\" + str(k+1)], (1-beta1**t))\r\n",
        "          m_hat[\"b\" + str(k+1)] = np.divide(m[\"b\" + str(k+1)], (1-beta1**t))\r\n",
        "\r\n",
        "          weights[\"w\" + str(k+1)] -= eta * np.divide(m_hat[\"w\" + str(k+1)], np.sqrt(v_hat[\"w\" + str(k+1)] + epsilon))        \r\n",
        "          weights[\"b\" + str(k+1)] -= eta * np.divide(m_hat[\"b\" + str(k+1)], np.sqrt(v_hat[\"b\" + str(k+1)] + epsilon))\r\n",
        "\r\n",
        "\r\n",
        "    training_loss, training_accuracy, validation_loss, validation_accuracy = calculate_loss_accuracy(train_x, train_y, test_x, test_y, weights, nn_layers, alpha)\r\n",
        "\r\n",
        "    training_loss_list.append(training_loss)\r\n",
        "    training_accuracy_list.append(training_accuracy)\r\n",
        "    validation_loss_list.append(validation_loss)\r\n",
        "    validation_accuracy_list.append(validation_accuracy)\r\n",
        "\r\n",
        "    print((str(i+1)) + \"/\" + str(epochs) + \" completed\")\r\n",
        "\r\n",
        "  return weights, training_loss_list, training_accuracy_list, validation_loss_list, validation_accuracy_list"
      ],
      "execution_count": 25,
      "outputs": []
    },
    {
      "cell_type": "code",
      "metadata": {
        "id": "fykglQFQaWpd"
      },
      "source": [
        "def nadam(train_x, train_y, test_x, test_y, weights, nn_layers, eta, epochs, n_batches, alpha):\r\n",
        "\r\n",
        "  training_loss_list = []\r\n",
        "  training_accuracy_list = []\r\n",
        "  validation_loss_list = []\r\n",
        "  validation_accuracy_list = []\r\n",
        "\r\n",
        "  batch_x = np.array(np.array_split(train_x, n_batches))\r\n",
        "  batch_y = np.array(np.array_split(train_y, n_batches))\r\n",
        "\r\n",
        "  v = {}\r\n",
        "  v_hat = {}\r\n",
        "  m = {}\r\n",
        "  m_hat = {}\r\n",
        "\r\n",
        "  look_ahead_w = {}\r\n",
        "  look_ahead_m_hat = {}\r\n",
        "  look_ahead_v_hat = {}\r\n",
        "\r\n",
        "  beta1 = 0.9\r\n",
        "  beta2 = 0.999\r\n",
        "  epsilon = 1e-8\r\n",
        "\r\n",
        "  for k, layer in enumerate(nn_layers):\r\n",
        "          v[\"w\" + str(k+1)] = np.zeros(weights[\"w\" + str(k+1)].shape)    \r\n",
        "          v[\"b\" + str(k+1)] = np.zeros(weights[\"b\" + str(k+1)].shape)\r\n",
        "          m[\"w\" + str(k+1)] = np.zeros(weights[\"w\" + str(k+1)].shape)    \r\n",
        "          m[\"b\" + str(k+1)] = np.zeros(weights[\"b\" + str(k+1)].shape) \r\n",
        "\r\n",
        "  t = 0\r\n",
        "\r\n",
        "  for i in range(epochs):\r\n",
        "    for j in range(n_batches):\r\n",
        "\r\n",
        "        t += 1\r\n",
        "\r\n",
        "        for k, layer in enumerate(nn_layers):\r\n",
        "\r\n",
        "          look_ahead_v_hat[\"w\" + str(k+1)] = np.divide(beta2 * v[\"w\" + str(k+1)], (1-beta2**t))\r\n",
        "          look_ahead_v_hat[\"b\" + str(k+1)] = np.divide(beta2 * v[\"b\" + str(k+1)], (1-beta2**t))\r\n",
        "\r\n",
        "          look_ahead_m_hat[\"w\" + str(k+1)] = np.divide(beta1 * m[\"w\" + str(k+1)], (1-beta1**t))\r\n",
        "          look_ahead_m_hat[\"b\" + str(k+1)] = np.divide(beta1 * m[\"b\" + str(k+1)], (1-beta1**t))\r\n",
        "\r\n",
        "          look_ahead_w[\"w\" + str(k+1)] = weights[\"w\" + str(k+1)] - eta * np.divide(look_ahead_m_hat[\"w\" + str(k+1)], np.sqrt(look_ahead_v_hat[\"w\" + str(k+1)] + epsilon))\r\n",
        "          look_ahead_w[\"b\" + str(k+1)] = weights[\"b\" + str(k+1)] - eta * np.divide(look_ahead_m_hat[\"b\" + str(k+1)], np.sqrt(look_ahead_v_hat[\"b\" + str(k+1)] + epsilon))\r\n",
        "\r\n",
        "        y_hat, layer_output = forward_prop(batch_x[j], look_ahead_w, nn_layers)\r\n",
        "        gradients = back_prop(y_hat, batch_y[j], layer_output, look_ahead_w, nn_layers, alpha)\r\n",
        "\r\n",
        "        for k, layer in enumerate(nn_layers):\r\n",
        "          \r\n",
        "          v[\"w\" + str(k+1)] = beta2 * v[\"w\" + str(k+1)] + (1-beta2) * gradients[\"dw\" + str(k+1)]**2     \r\n",
        "          v[\"b\" + str(k+1)] = beta2 * v[\"b\" + str(k+1)] + (1-beta2) * gradients[\"db\" + str(k+1)]**2 \r\n",
        "\r\n",
        "          m[\"w\" + str(k+1)] = beta1 * m[\"w\" + str(k+1)] + (1-beta1) * gradients[\"dw\" + str(k+1)]    \r\n",
        "          m[\"b\" + str(k+1)] = beta1 * m[\"b\" + str(k+1)] + (1-beta1) * gradients[\"db\" + str(k+1)] \r\n",
        "\r\n",
        "          v_hat[\"w\" + str(k+1)] = np.divide(v[\"w\" + str(k+1)], (1-beta2**t))\r\n",
        "          v_hat[\"b\" + str(k+1)] = np.divide(v[\"b\" + str(k+1)], (1-beta2**t))\r\n",
        "\r\n",
        "          m_hat[\"w\" + str(k+1)] = np.divide(m[\"w\" + str(k+1)], (1-beta1**t))\r\n",
        "          m_hat[\"b\" + str(k+1)] = np.divide(m[\"b\" + str(k+1)], (1-beta1**t))\r\n",
        "\r\n",
        "          weights[\"w\" + str(k+1)] -= eta * np.divide(m_hat[\"w\" + str(k+1)], np.sqrt(v_hat[\"w\" + str(k+1)] + epsilon))        \r\n",
        "          weights[\"b\" + str(k+1)] -= eta * np.divide(m_hat[\"b\" + str(k+1)], np.sqrt(v_hat[\"b\" + str(k+1)] + epsilon))\r\n",
        "\r\n",
        "\r\n",
        "    training_loss, training_accuracy, validation_loss, validation_accuracy = calculate_loss_accuracy(train_x, train_y, test_x, test_y, weights, nn_layers, alpha)\r\n",
        "\r\n",
        "    training_loss_list.append(training_loss)\r\n",
        "    training_accuracy_list.append(training_accuracy)\r\n",
        "    validation_loss_list.append(validation_loss)\r\n",
        "    validation_accuracy_list.append(validation_accuracy)\r\n",
        "\r\n",
        "    print((str(i+1)) + \"/\" + str(epochs) + \" completed\")\r\n",
        "\r\n",
        "  return weights, training_loss_list, training_accuracy_list, validation_loss_list, validation_accuracy_list"
      ],
      "execution_count": 26,
      "outputs": []
    },
    {
      "cell_type": "code",
      "metadata": {
        "id": "X4aDXCVWXLdY"
      },
      "source": [
        "def train(train_x, train_y, test_x, test_y, nn_layers, epochs, eta, batch_size, optimizer, weight_init, alpha):\r\n",
        "    \r\n",
        "    weights = init_layers(nn_layers, weight_init)\r\n",
        "    \r\n",
        "    n_batches = len(train_x)//batch_size\r\n",
        "\r\n",
        "    if optimizer == \"gradient_descent\":\r\n",
        "      weights, training_loss_list, training_accuracy_list, validation_loss_list, validation_accuracy_list = gradient_descent(train_x, train_y, test_x, test_y, weights, nn_layers, eta, epochs, n_batches, alpha)\r\n",
        "\r\n",
        "    elif optimizer == \"momentum_gradient_descent\":\r\n",
        "      weights, training_loss_list, training_accuracy_list, validation_loss_list, validation_accuracy_list = momentum_gd(train_x, train_y, test_x, test_y, weights, nn_layers, eta, epochs, n_batches, alpha)\r\n",
        "\r\n",
        "    elif optimizer == \"nesterov_accelerated_gradient_descent\":\r\n",
        "      weights, training_loss_list, training_accuracy_list, validation_loss_list, validation_accuracy_list = nesterov_gd(train_x, train_y, test_x, test_y, weights, nn_layers, eta, epochs, n_batches, alpha)\r\n",
        "\r\n",
        "    elif optimizer == \"rmsprop\":\r\n",
        "      weights, training_loss_list, training_accuracy_list, validation_loss_list, validation_accuracy_list = rmsprop(train_x, train_y, test_x, test_y, weights, nn_layers, eta, epochs, n_batches, alpha)\r\n",
        "\r\n",
        "    elif optimizer == \"adam\":\r\n",
        "      weights, training_loss_list, training_accuracy_list, validation_loss_list, validation_accuracy_list = adam(train_x, train_y, test_x, test_y, weights, nn_layers, eta, epochs, n_batches, alpha)\r\n",
        "\r\n",
        "    elif optimizer == \"nadam\":\r\n",
        "      weights, training_loss_list, training_accuracy_list, validation_loss_list, validation_accuracy_list = nadam(train_x, train_y, test_x, test_y, weights, nn_layers, eta, epochs, n_batches, alpha)\r\n",
        "\r\n",
        "    else:\r\n",
        "      return \"Error - Wrong Optimizer\"\r\n",
        "        \r\n",
        "    return weights, training_loss_list, training_accuracy_list, validation_loss_list, validation_accuracy_list"
      ],
      "execution_count": 27,
      "outputs": []
    },
    {
      "cell_type": "code",
      "metadata": {
        "colab": {
          "base_uri": "https://localhost:8080/"
        },
        "id": "48Iavyp6wVzs",
        "outputId": "e691ad9b-ca15-42a3-9adf-03b83876cd09"
      },
      "source": [
        "eta = config.learn_rate\r\n",
        "epochs = config.epochs\r\n",
        "batch_size = config.batch_size\r\n",
        "optimizer = config.optimizer\r\n",
        "weight_init = config.weight_init\r\n",
        "alpha = config.alpha\r\n",
        "\r\n",
        "# batch_size = 1 for stochastic and batch_size = len(train_x) for batch updates\r\n",
        "\r\n",
        "\r\n",
        "weights, train_loss, train_accuracy, val_loss, val_accuracy = train(train_x, train_y, val_x, val_y, nn_layers, epochs, eta, batch_size, optimizer, weight_init, alpha)\r\n"
      ],
      "execution_count": 28,
      "outputs": [
        {
          "output_type": "stream",
          "text": [
            "1/10 completed\n",
            "2/10 completed\n",
            "3/10 completed\n",
            "4/10 completed\n",
            "5/10 completed\n",
            "6/10 completed\n",
            "7/10 completed\n",
            "8/10 completed\n",
            "9/10 completed\n",
            "10/10 completed\n"
          ],
          "name": "stdout"
        }
      ]
    },
    {
      "cell_type": "code",
      "metadata": {
        "id": "r96Q9FrdYrZN"
      },
      "source": [
        "# save the optimized weights\r\n",
        "with open('weights.pickle', 'wb') as handle:\r\n",
        "    pickle.dump(weights, handle, protocol=pickle.HIGHEST_PROTOCOL)"
      ],
      "execution_count": null,
      "outputs": []
    },
    {
      "cell_type": "code",
      "metadata": {
        "id": "AgZeiRhf3ikV",
        "colab": {
          "base_uri": "https://localhost:8080/"
        },
        "outputId": "ce4e7993-0a17-47d6-b175-c957ff058109"
      },
      "source": [
        "train_loss"
      ],
      "execution_count": 29,
      "outputs": [
        {
          "output_type": "execute_result",
          "data": {
            "text/plain": [
              "[0.3590270576872821,\n",
              " 0.32380800069292065,\n",
              " 0.2981786114836236,\n",
              " 0.28590518226997974,\n",
              " 0.29064502335706477,\n",
              " 0.27446551037033073,\n",
              " 0.27314264897253926,\n",
              " 0.24433381854026845,\n",
              " 0.2504163716137341,\n",
              " 0.23398488781872365]"
            ]
          },
          "metadata": {
            "tags": []
          },
          "execution_count": 29
        }
      ]
    },
    {
      "cell_type": "code",
      "metadata": {
        "id": "kRrnSowfHVmu",
        "colab": {
          "base_uri": "https://localhost:8080/"
        },
        "outputId": "dc0d0f49-a5df-4119-e20a-40ccdb846f7f"
      },
      "source": [
        "train_accuracy"
      ],
      "execution_count": 30,
      "outputs": [
        {
          "output_type": "execute_result",
          "data": {
            "text/plain": [
              "[0.8722037037037037,\n",
              " 0.8825185185185185,\n",
              " 0.8892407407407408,\n",
              " 0.8957037037037037,\n",
              " 0.8947407407407407,\n",
              " 0.8978148148148148,\n",
              " 0.8979259259259259,\n",
              " 0.9095740740740741,\n",
              " 0.9071851851851852,\n",
              " 0.9131111111111111]"
            ]
          },
          "metadata": {
            "tags": []
          },
          "execution_count": 30
        }
      ]
    },
    {
      "cell_type": "code",
      "metadata": {
        "id": "DATFWQ0wHW8O",
        "colab": {
          "base_uri": "https://localhost:8080/"
        },
        "outputId": "f50fc34d-42f3-4ba0-bc81-fcf994a999de"
      },
      "source": [
        "config"
      ],
      "execution_count": 31,
      "outputs": [
        {
          "output_type": "execute_result",
          "data": {
            "text/plain": [
              "{'n_layers': 4, 'hidden_layer_size': 128, 'learn_rate': 0.001, 'batch_size': 16, 'epochs': 10, 'alpha': 0, 'optimizer': 'nadam', 'activation': 'relu', 'weight_init': 'random'}"
            ]
          },
          "metadata": {
            "tags": []
          },
          "execution_count": 31
        }
      ]
    },
    {
      "cell_type": "code",
      "metadata": {
        "colab": {
          "base_uri": "https://localhost:8080/"
        },
        "id": "SbsBFhs9cbQ3",
        "outputId": "bc6ec9d6-7e74-4812-f91c-097fc7252104"
      },
      "source": [
        "val_accuracy"
      ],
      "execution_count": 33,
      "outputs": [
        {
          "output_type": "execute_result",
          "data": {
            "text/plain": [
              "[0.867,\n",
              " 0.8745,\n",
              " 0.8786666666666667,\n",
              " 0.8853333333333333,\n",
              " 0.8766666666666667,\n",
              " 0.8751666666666666,\n",
              " 0.8781666666666667,\n",
              " 0.8873333333333333,\n",
              " 0.8853333333333333,\n",
              " 0.8895]"
            ]
          },
          "metadata": {
            "tags": []
          },
          "execution_count": 33
        }
      ]
    },
    {
      "cell_type": "code",
      "metadata": {
        "colab": {
          "base_uri": "https://localhost:8080/"
        },
        "id": "yT39tLWyc57m",
        "outputId": "77448f9f-1293-4c80-cee6-2a8ef5773c92"
      },
      "source": [
        "val_loss"
      ],
      "execution_count": 34,
      "outputs": [
        {
          "output_type": "execute_result",
          "data": {
            "text/plain": [
              "[0.3820773694599643,\n",
              " 0.35793171661765594,\n",
              " 0.3441491776290571,\n",
              " 0.3355184181295215,\n",
              " 0.35577333535480155,\n",
              " 0.341224194275083,\n",
              " 0.3486184030064242,\n",
              " 0.3270737413914123,\n",
              " 0.3494800805594172,\n",
              " 0.33733191357333325]"
            ]
          },
          "metadata": {
            "tags": []
          },
          "execution_count": 34
        }
      ]
    },
    {
      "cell_type": "code",
      "metadata": {
        "id": "2yWF20mgc8og"
      },
      "source": [
        ""
      ],
      "execution_count": null,
      "outputs": []
    }
  ]
}