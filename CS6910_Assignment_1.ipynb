{
  "nbformat": 4,
  "nbformat_minor": 0,
  "metadata": {
    "colab": {
      "name": "CS6910_Assignment_1.ipynb",
      "provenance": [],
      "collapsed_sections": [],
      "include_colab_link": true
    },
    "kernelspec": {
      "display_name": "Python 3",
      "name": "python3"
    }
  },
  "cells": [
    {
      "cell_type": "markdown",
      "metadata": {
        "id": "view-in-github",
        "colab_type": "text"
      },
      "source": [
        "<a href=\"https://colab.research.google.com/github/neilghosh2000/CS6910_Assignment1/blob/main/CS6910_Assignment_1.ipynb\" target=\"_parent\"><img src=\"https://colab.research.google.com/assets/colab-badge.svg\" alt=\"Open In Colab\"/></a>"
      ]
    },
    {
      "cell_type": "code",
      "metadata": {
        "colab": {
          "base_uri": "https://localhost:8080/"
        },
        "id": "Tz5NGtA3mdTa",
        "outputId": "2599ceae-cefc-4239-e1fb-8c7e997b4a18"
      },
      "source": [
        "!pip install wandb"
      ],
      "execution_count": null,
      "outputs": [
        {
          "output_type": "stream",
          "text": [
            "Requirement already satisfied: wandb in /usr/local/lib/python3.7/dist-packages (0.10.21)\n",
            "Requirement already satisfied: six>=1.13.0 in /usr/local/lib/python3.7/dist-packages (from wandb) (1.15.0)\n",
            "Requirement already satisfied: GitPython>=1.0.0 in /usr/local/lib/python3.7/dist-packages (from wandb) (3.1.14)\n",
            "Requirement already satisfied: psutil>=5.0.0 in /usr/local/lib/python3.7/dist-packages (from wandb) (5.4.8)\n",
            "Requirement already satisfied: protobuf>=3.12.0 in /usr/local/lib/python3.7/dist-packages (from wandb) (3.12.4)\n",
            "Requirement already satisfied: Click>=7.0 in /usr/local/lib/python3.7/dist-packages (from wandb) (7.1.2)\n",
            "Requirement already satisfied: PyYAML in /usr/local/lib/python3.7/dist-packages (from wandb) (3.13)\n",
            "Requirement already satisfied: pathtools in /usr/local/lib/python3.7/dist-packages (from wandb) (0.1.2)\n",
            "Requirement already satisfied: subprocess32>=3.5.3 in /usr/local/lib/python3.7/dist-packages (from wandb) (3.5.4)\n",
            "Requirement already satisfied: configparser>=3.8.1 in /usr/local/lib/python3.7/dist-packages (from wandb) (5.0.2)\n",
            "Requirement already satisfied: python-dateutil>=2.6.1 in /usr/local/lib/python3.7/dist-packages (from wandb) (2.8.1)\n",
            "Requirement already satisfied: requests<3,>=2.0.0 in /usr/local/lib/python3.7/dist-packages (from wandb) (2.23.0)\n",
            "Requirement already satisfied: sentry-sdk>=0.4.0 in /usr/local/lib/python3.7/dist-packages (from wandb) (0.20.3)\n",
            "Requirement already satisfied: shortuuid>=0.5.0 in /usr/local/lib/python3.7/dist-packages (from wandb) (1.0.1)\n",
            "Requirement already satisfied: docker-pycreds>=0.4.0 in /usr/local/lib/python3.7/dist-packages (from wandb) (0.4.0)\n",
            "Requirement already satisfied: promise<3,>=2.0 in /usr/local/lib/python3.7/dist-packages (from wandb) (2.3)\n",
            "Requirement already satisfied: gitdb<5,>=4.0.1 in /usr/local/lib/python3.7/dist-packages (from GitPython>=1.0.0->wandb) (4.0.5)\n",
            "Requirement already satisfied: setuptools in /usr/local/lib/python3.7/dist-packages (from protobuf>=3.12.0->wandb) (53.0.0)\n",
            "Requirement already satisfied: idna<3,>=2.5 in /usr/local/lib/python3.7/dist-packages (from requests<3,>=2.0.0->wandb) (2.10)\n",
            "Requirement already satisfied: urllib3!=1.25.0,!=1.25.1,<1.26,>=1.21.1 in /usr/local/lib/python3.7/dist-packages (from requests<3,>=2.0.0->wandb) (1.24.3)\n",
            "Requirement already satisfied: certifi>=2017.4.17 in /usr/local/lib/python3.7/dist-packages (from requests<3,>=2.0.0->wandb) (2020.12.5)\n",
            "Requirement already satisfied: chardet<4,>=3.0.2 in /usr/local/lib/python3.7/dist-packages (from requests<3,>=2.0.0->wandb) (3.0.4)\n",
            "Requirement already satisfied: smmap<4,>=3.0.1 in /usr/local/lib/python3.7/dist-packages (from gitdb<5,>=4.0.1->GitPython>=1.0.0->wandb) (3.0.5)\n"
          ],
          "name": "stdout"
        }
      ]
    },
    {
      "cell_type": "code",
      "metadata": {
        "id": "OylGz6A0Dtb9"
      },
      "source": [
        "import numpy as np\r\n",
        "import matplotlib.pyplot as plt\r\n",
        "from keras.datasets import fashion_mnist"
      ],
      "execution_count": 11,
      "outputs": []
    },
    {
      "cell_type": "code",
      "metadata": {
        "id": "r0X8wGjVGJDf"
      },
      "source": [
        "#import the data\r\n",
        "(train_images, train_labels), (test_images, test_labels) = fashion_mnist.load_data()\r\n",
        "\r\n",
        "#class names\r\n",
        "class_names = ['T-shirt/top', 'Trouser', 'Pullover', 'Dress', 'Coat',\r\n",
        "               'Sandal', 'Shirt', 'Sneaker', 'Bag', 'Ankle boot']\r\n"
      ],
      "execution_count": 12,
      "outputs": []
    },
    {
      "cell_type": "code",
      "metadata": {
        "colab": {
          "base_uri": "https://localhost:8080/",
          "height": 289
        },
        "id": "qvIW2rnL5O-C",
        "outputId": "d4c866a0-16c3-42dd-87da-fb0e6475e120"
      },
      "source": [
        "# plot one sample image from each class arnesh\r\n",
        "sample_images = []\r\n",
        "plt.figure(figsize=(10,5))\r\n",
        "for i in range(len(class_names)):\r\n",
        "    sample_images.append(train_labels.tolist().index(i))\r\n",
        "    plt.subplot(2, 5, i+1)\r\n",
        "    plt.xticks([])\r\n",
        "    plt.yticks([])\r\n",
        "    plt.grid(False)\r\n",
        "    plt.imshow(train_images[sample_images[i]], cmap=plt.cm.binary)\r\n",
        "    plt.xlabel(class_names[train_labels[sample_images[i]]])"
      ],
      "execution_count": null,
      "outputs": [
        {
          "output_type": "display_data",
          "data": {
            "image/png": "[encoded data removed]",
            "text/plain": [
              "<Figure size 720x360 with 10 Axes>"
            ]
          },
          "metadata": {
            "tags": []
          }
        }
      ]
    },
    {
      "cell_type": "code",
      "metadata": {
        "id": "4imZB0mnKMzw"
      },
      "source": [
        "def one_hot_vector(x):\r\n",
        "  y = np.zeros((x.size, x.max()+1))\r\n",
        "  y[np.arange(x.size),x] = 1\r\n",
        "  return y"
      ],
      "execution_count": 13,
      "outputs": []
    },
    {
      "cell_type": "code",
      "metadata": {
        "id": "-TURP1gZDx19"
      },
      "source": [
        "input_size = train_images.shape[1]*train_images.shape[2]\r\n",
        "output_size = len(class_names)\r\n",
        "\r\n",
        "train_x = train_images.reshape([train_images.shape[0], input_size, 1])/255\r\n",
        "test_x = test_images.reshape([test_images.shape[0], input_size, 1])/255\r\n",
        "\r\n",
        "train_y = one_hot_vector(train_labels)\r\n",
        "test_y = one_hot_vector(test_labels)\r\n",
        "\r\n",
        "train_y = np.dstack([train_y])\r\n",
        "test_y = np.dstack([test_y])"
      ],
      "execution_count": 14,
      "outputs": []
    },
    {
      "cell_type": "code",
      "metadata": {
        "id": "U_IQUlNd3RiF"
      },
      "source": [
        "nn_layers = [{\"input_dim\" : input_size, \"output_dim\" : 64, \"activation\" : \"sigmoid\"},\r\n",
        "             {\"input_dim\" : 64, \"output_dim\" : 64, \"activation\" : \"sigmoid\"},\r\n",
        "             {\"input_dim\" : 64, \"output_dim\" : 32, \"activation\" : \"sigmoid\"},\r\n",
        "             {\"input_dim\" : 32, \"output_dim\" : output_size, \"activation\" : \"sigmoid\"}]\r\n",
        "             \r\n",
        "def init_layers(nn_layers, seed = 1):\r\n",
        "    np.random.seed(seed)\r\n",
        "    weights = {}\r\n",
        "\r\n",
        "    for i, layer in enumerate(nn_layers):\r\n",
        "        layer_no = i + 1\r\n",
        "        layer_input_size = layer[\"input_dim\"]\r\n",
        "        layer_output_size = layer[\"output_dim\"]\r\n",
        "        \r\n",
        "        weights['w' + str(layer_no)] = np.random.randn(layer_output_size, layer_input_size) * 0.1\r\n",
        "        weights['b' + str(layer_no)] = np.random.randn(layer_output_size, 1) * 0.1\r\n",
        "        \r\n",
        "    return weights\r\n",
        "\r\n",
        "weights = init_layers(nn_layers)"
      ],
      "execution_count": 15,
      "outputs": []
    },
    {
      "cell_type": "code",
      "metadata": {
        "id": "GhNlOGf1Pzim"
      },
      "source": [
        "def activation_func(z, activation=\"sigmoid\"):\r\n",
        "    if activation == \"sigmoid\":\r\n",
        "        return 1 / (1 + np.exp(-z))\r\n",
        "    elif activation == \"softmax\":\r\n",
        "        z1 = np.exp(z)\r\n",
        "        z1 = z1.reshape([z1.shape[0], z1.shape[1]])\r\n",
        "        return z1 / np.exp(z).sum(axis=1)\r\n",
        "    elif activation == \"tanh\":\r\n",
        "        return (np.exp(z) - np.exp(-z)) / (np.exp(z) + np.exp(-z))\r\n",
        "    elif activation == \"relu\":\r\n",
        "        return np.maximum(0, z)\r\n",
        "\r\n",
        "    else:\r\n",
        "        return \"Error\"\r\n",
        "\r\n",
        "def activation_derivative(z, activation=\"sigmoid\"):\r\n",
        "    if activation == \"sigmoid\":\r\n",
        "      sig = 1 / (1 + np.exp(-z))\r\n",
        "      return sig*(1-sig)\r\n",
        "    else:\r\n",
        "      return \"Error\""
      ],
      "execution_count": 16,
      "outputs": []
    },
    {
      "cell_type": "code",
      "metadata": {
        "id": "7GFem9XQSzZ3"
      },
      "source": [
        "def forward_prop(train_x, weights, nn_layers):\r\n",
        "    \r\n",
        "    layer_output = {}\r\n",
        "    h_curr = train_x\r\n",
        "    \r\n",
        "    layer_output[\"h0\"] = train_x\r\n",
        "    layer_output[\"a0\"] = train_x\r\n",
        "    \r\n",
        "    for i, layer in enumerate(nn_layers):\r\n",
        "        layer_no = i + 1\r\n",
        "        h_prev = h_curr\r\n",
        "        \r\n",
        "        activation = layer[\"activation\"]\r\n",
        "        w_curr = weights[\"w\" + str(layer_no)]\r\n",
        "        b_curr = weights[\"b\" + str(layer_no)]\r\n",
        "\r\n",
        "        a_curr = np.matmul(w_curr, h_prev) + b_curr\r\n",
        "        h_curr = activation_func(a_curr, activation)\r\n",
        "        \r\n",
        "        layer_output[\"a\" + str(layer_no)] = a_curr\r\n",
        "        layer_output[\"h\" + str(layer_no)] = h_curr\r\n",
        "\r\n",
        "    return h_curr, layer_output"
      ],
      "execution_count": 17,
      "outputs": []
    },
    {
      "cell_type": "code",
      "metadata": {
        "id": "HichVkAxT6jR"
      },
      "source": [
        "y_hat, layer_output = forward_prop(train_x, weights, nn_layers)"
      ],
      "execution_count": null,
      "outputs": []
    },
    {
      "cell_type": "code",
      "metadata": {
        "id": "IWsjJKH2WDUP"
      },
      "source": [
        "# cross entropy loss\r\n",
        "def loss_func(y_hat, y):\r\n",
        "  return (-np.multiply(y, np.log(y_hat)).sum())/len(y_hat)\r\n",
        "\r\n",
        "\r\n",
        "def accuracy_func(y_hat, train_y):  \r\n",
        "    correct_pred = np.argmax(y_hat, axis = 1) == np.argmax(train_y, axis = 1)\r\n",
        "    return sum(bool(x) for x in correct_pred)/len(y_hat)"
      ],
      "execution_count": 18,
      "outputs": []
    },
    {
      "cell_type": "code",
      "metadata": {
        "colab": {
          "base_uri": "https://localhost:8080/"
        },
        "id": "Hv0LV8sA4IQU",
        "outputId": "5b8f82b3-44bf-4303-eec0-1b4ec9ad5b3d"
      },
      "source": [
        "loss_func(y_hat, train_y)"
      ],
      "execution_count": null,
      "outputs": [
        {
          "output_type": "execute_result",
          "data": {
            "text/plain": [
              "0.7433102758911755"
            ]
          },
          "metadata": {
            "tags": []
          },
          "execution_count": 10
        }
      ]
    },
    {
      "cell_type": "code",
      "metadata": {
        "id": "pkgqoh355X8-"
      },
      "source": [
        "def back_prop(y_hat, y, layer_output, weights, nn_layers):\r\n",
        "    \r\n",
        "    gradients = {}\r\n",
        "\r\n",
        "    da_prev = -(y - y_hat)\r\n",
        "    da_prev = np.dstack([da_prev])\r\n",
        "\r\n",
        "    m = len(y_hat)\r\n",
        "    \r\n",
        "    for i, layer in reversed(list(enumerate(nn_layers))):\r\n",
        "        layer_index = i + 1\r\n",
        "        activation = layer[\"activation\"]\r\n",
        "        \r\n",
        "        da_curr = da_prev\r\n",
        "                   \r\n",
        "        a_prev = layer_output[\"a\" + str(i)]   \r\n",
        "        h_prev = layer_output[\"h\" + str(i)]\r\n",
        "        dh_prev = np.zeros(h_prev.shape)\r\n",
        "        \r\n",
        "        a_curr = layer_output[\"a\" + str(layer_index)]\r\n",
        "        w_curr = weights[\"w\" + str(layer_index)]\r\n",
        "        b_curr = weights[\"b\" + str(layer_index)]\r\n",
        "        dw_curr = np.zeros(w_curr.shape)\r\n",
        "        db_curr = np.zeros(b_curr.shape)\r\n",
        "\r\n",
        "        for j in range(m):\r\n",
        "            dw_curr += np.dot(da_curr[j], h_prev[j].T) \r\n",
        "            db_curr += da_curr[j]\r\n",
        "            dh_prev[j] = np.dot(w_curr.T, da_curr[j])\r\n",
        "        \r\n",
        "        dw_curr /= m\r\n",
        "        db_curr /= m\r\n",
        " \r\n",
        "        da_prev = np.multiply(dh_prev,activation_derivative(a_prev, activation))\r\n",
        "            \r\n",
        "        gradients[\"dw\" + str(layer_index)] = dw_curr\r\n",
        "        gradients[\"db\" + str(layer_index)] = db_curr\r\n",
        "    \r\n",
        "    return gradients"
      ],
      "execution_count": 19,
      "outputs": []
    },
    {
      "cell_type": "code",
      "metadata": {
        "id": "zDkhAt5187Ia"
      },
      "source": [
        "def gradient_descent(train_x, train_y, test_x, test_y, weights, nn_layers, eta, epochs, n_batches):\r\n",
        "\r\n",
        "  training_loss_list = []\r\n",
        "  training_accuracy_list = []\r\n",
        "  validation_loss_list = []\r\n",
        "  validation_accuracy_list = []\r\n",
        "\r\n",
        "  batch_x = np.array(np.array_split(train_x, n_batches))\r\n",
        "  batch_y = np.array(np.array_split(train_y, n_batches))\r\n",
        "\r\n",
        "  for i in range(epochs):\r\n",
        "    for j in range(n_batches):\r\n",
        "\r\n",
        "        y_hat, layer_output = forward_prop(batch_x[j], weights, nn_layers)\r\n",
        "        gradients = back_prop(y_hat, batch_y[j], layer_output, weights, nn_layers)\r\n",
        "\r\n",
        "        for k, layer in enumerate(nn_layers):\r\n",
        "          weights[\"w\" + str(k+1)] -= eta * gradients[\"dw\" + str(k+1)]        \r\n",
        "          weights[\"b\" + str(k+1)] -= eta * gradients[\"db\" + str(k+1)]\r\n",
        "\r\n",
        "        print(j)\r\n",
        "\r\n",
        "    training_loss, training_accuracy, validation_loss, validation_accuracy = calculate_loss_accuracy(train_x, train_y, test_x, test_y, weights, nn_layers)\r\n",
        "\r\n",
        "    training_loss_list.append(training_loss)\r\n",
        "    training_accuracy_list.append(training_accuracy)\r\n",
        "    validation_loss_list.append(validation_loss)\r\n",
        "    validation_accuracy_list.append(validation_accuracy)\r\n",
        "\r\n",
        "    print((str(i+1)) + \"/\" + str(epochs) + \" epochs completed\")\r\n",
        "\r\n",
        "  return weights, training_loss_list, training_accuracy_list, validation_loss_list, validation_accuracy_list\r\n"
      ],
      "execution_count": 20,
      "outputs": []
    },
    {
      "cell_type": "code",
      "metadata": {
        "id": "VbDUJb7TJk42"
      },
      "source": [
        "def calculate_loss_accuracy(train_x, train_y, test_x, test_y, weights, nn_layers):\r\n",
        "\r\n",
        "    y_hat, layer_output = forward_prop(train_x, weights, nn_layers)\r\n",
        "    training_loss = (loss_func(y_hat, train_y))\r\n",
        "    training_accuracy = (accuracy_func(y_hat, train_y))\r\n",
        "\r\n",
        "    y_hat, layer_output = forward_prop(test_x, weights, nn_layers)\r\n",
        "    validation_loss = (loss_func(y_hat, test_y))\r\n",
        "    validation_accuracy = (accuracy_func(y_hat, test_y))\r\n",
        "\r\n",
        "    return training_loss, training_accuracy, validation_loss, validation_accuracy\r\n"
      ],
      "execution_count": 21,
      "outputs": []
    },
    {
      "cell_type": "code",
      "metadata": {
        "id": "PhHapYC5aeUG"
      },
      "source": [
        "def momentum_gd(train_x, train_y, test_x, test_y, weights, nn_layers, eta, epochs, n_batches):\r\n",
        "\r\n",
        "  training_loss_list = []\r\n",
        "  training_accuracy_list = []\r\n",
        "  validation_loss_list = []\r\n",
        "  validation_accuracy_list = []\r\n",
        "\r\n",
        "  batch_x = np.array(np.array_split(train_x, n_batches))\r\n",
        "  batch_y = np.array(np.array_split(train_y, n_batches))\r\n",
        "\r\n",
        "  prev_weights = {}\r\n",
        "\r\n",
        "  gamma = 0.9\r\n",
        "\r\n",
        "  for k, layer in enumerate(nn_layers):\r\n",
        "          prev_weights[\"w\" + str(k+1)] = np.zeros(weights[\"w\" + str(k+1)].shape)    \r\n",
        "          prev_weights[\"b\" + str(k+1)] = np.zeros(weights[\"b\" + str(k+1)].shape) \r\n",
        "\r\n",
        "  for i in range(epochs):\r\n",
        "    for j in range(n_batches):\r\n",
        "\r\n",
        "        y_hat, layer_output = forward_prop(batch_x[j], weights, nn_layers)\r\n",
        "        gradients = back_prop(y_hat, batch_y[j], layer_output, weights, nn_layers)\r\n",
        "\r\n",
        "        for k, layer in enumerate(nn_layers):\r\n",
        "          prev_weights[\"w\" + str(k+1)] = gamma * prev_weights[\"w\" + str(k+1)] + eta * gradients[\"dw\" + str(k+1)]     \r\n",
        "          prev_weights[\"b\" + str(k+1)] = gamma * prev_weights[\"b\" + str(k+1)] + eta * gradients[\"db\" + str(k+1)]   \r\n",
        "\r\n",
        "          weights[\"w\" + str(k+1)] -= prev_weights[\"w\" + str(k+1)]        \r\n",
        "          weights[\"b\" + str(k+1)] -= prev_weights[\"b\" + str(k+1)]\r\n",
        "\r\n",
        "\r\n",
        "    training_loss, training_accuracy, validation_loss, validation_accuracy = calculate_loss_accuracy(train_x, train_y, test_x, test_y, weights, nn_layers)\r\n",
        "\r\n",
        "    training_loss_list.append(training_loss)\r\n",
        "    training_accuracy_list.append(training_accuracy)\r\n",
        "    validation_loss_list.append(validation_loss)\r\n",
        "    validation_accuracy_list.append(validation_accuracy)\r\n",
        "\r\n",
        "    print((str(i+1)) + \"/\" + str(epochs) + \" completed\")\r\n",
        "\r\n",
        "  return weights, training_loss_list, training_accuracy_list, validation_loss_list, validation_accuracy_list"
      ],
      "execution_count": 22,
      "outputs": []
    },
    {
      "cell_type": "code",
      "metadata": {
        "id": "Lh6zj8KEab_a"
      },
      "source": [
        "def nesterov_gd(train_x, train_y, test_x, test_y, weights, nn_layers, eta, epochs, n_batches):\r\n",
        "\r\n",
        "  training_loss_list = []\r\n",
        "  training_accuracy_list = []\r\n",
        "  validation_loss_list = []\r\n",
        "  validation_accuracy_list = []\r\n",
        "\r\n",
        "  batch_x = np.array(np.array_split(train_x, n_batches))\r\n",
        "  batch_y = np.array(np.array_split(train_y, n_batches))\r\n",
        "\r\n",
        "  prev_weights = {}\r\n",
        "  look_ahead_w = {}\r\n",
        "  \r\n",
        "  gamma = 0.9\r\n",
        "\r\n",
        "  for k, layer in enumerate(nn_layers):\r\n",
        "          prev_weights[\"w\" + str(k+1)] = np.zeros(weights[\"w\" + str(k+1)].shape)    \r\n",
        "          prev_weights[\"b\" + str(k+1)] = np.zeros(weights[\"b\" + str(k+1)].shape) \r\n",
        "\r\n",
        "  for i in range(epochs):\r\n",
        "    for j in range(n_batches):\r\n",
        "\r\n",
        "        for k, layer in enumerate(nn_layers):\r\n",
        "          look_ahead_w[\"w\" + str(k+1)] = weights[\"w\" + str(k+1)] - gamma * prev_weights[\"w\" + str(k+1)]\r\n",
        "          look_ahead_w[\"b\" + str(k+1)] = weights[\"b\" + str(k+1)] - gamma * prev_weights[\"b\" + str(k+1)]\r\n",
        "\r\n",
        "        y_hat, layer_output = forward_prop(batch_x[j], look_ahead_w, nn_layers)\r\n",
        "        gradients = back_prop(y_hat, batch_y[j], layer_output, look_ahead_w, nn_layers)\r\n",
        "\r\n",
        "        for k, layer in enumerate(nn_layers):\r\n",
        "          prev_weights[\"w\" + str(k+1)] = gamma * prev_weights[\"w\" + str(k+1)] + eta * gradients[\"dw\" + str(k+1)]     \r\n",
        "          prev_weights[\"b\" + str(k+1)] = gamma * prev_weights[\"b\" + str(k+1)] + eta * gradients[\"db\" + str(k+1)]   \r\n",
        "\r\n",
        "          weights[\"w\" + str(k+1)] -= prev_weights[\"w\" + str(k+1)]        \r\n",
        "          weights[\"b\" + str(k+1)] -= prev_weights[\"b\" + str(k+1)]\r\n",
        "\r\n",
        "\r\n",
        "    training_loss, training_accuracy, validation_loss, validation_accuracy = calculate_loss_accuracy(train_x, train_y, test_x, test_y, weights, nn_layers)\r\n",
        "\r\n",
        "    training_loss_list.append(training_loss)\r\n",
        "    training_accuracy_list.append(training_accuracy)\r\n",
        "    validation_loss_list.append(validation_loss)\r\n",
        "    validation_accuracy_list.append(validation_accuracy)\r\n",
        "\r\n",
        "    print((str(i+1)) + \"/\" + str(epochs) + \" completed\")\r\n",
        "\r\n",
        "  return weights, training_loss_list, training_accuracy_list, validation_loss_list, validation_accuracy_list"
      ],
      "execution_count": 23,
      "outputs": []
    },
    {
      "cell_type": "code",
      "metadata": {
        "id": "MNdJAhPvaaL0"
      },
      "source": [
        "def rmsprop(train_x, train_y, test_x, test_y, weights, nn_layers, eta, epochs, n_batches):\r\n",
        "\r\n",
        "  training_loss_list = []\r\n",
        "  training_accuracy_list = []\r\n",
        "  validation_loss_list = []\r\n",
        "  validation_accuracy_list = []\r\n",
        "\r\n",
        "  batch_x = np.array(np.array_split(train_x, n_batches))\r\n",
        "  batch_y = np.array(np.array_split(train_y, n_batches))\r\n",
        "\r\n",
        "  v = {}\r\n",
        "\r\n",
        "  beta = 0.9\r\n",
        "  epsilon = 1e-8\r\n",
        "\r\n",
        "  for k, layer in enumerate(nn_layers):\r\n",
        "          v[\"w\" + str(k+1)] = np.zeros(weights[\"w\" + str(k+1)].shape)    \r\n",
        "          v[\"b\" + str(k+1)] = np.zeros(weights[\"b\" + str(k+1)].shape) \r\n",
        "\r\n",
        "  for i in range(epochs):\r\n",
        "    for j in range(n_batches):\r\n",
        "\r\n",
        "        y_hat, layer_output = forward_prop(batch_x[j], weights, nn_layers)\r\n",
        "        gradients = back_prop(y_hat, batch_y[j], layer_output, weights, nn_layers)\r\n",
        "\r\n",
        "        for k, layer in enumerate(nn_layers):\r\n",
        "          v[\"w\" + str(k+1)] = beta * v[\"w\" + str(k+1)] + (1-beta) * gradients[\"dw\" + str(k+1)]**2     \r\n",
        "          v[\"b\" + str(k+1)] = beta * v[\"b\" + str(k+1)] + (1-beta) * gradients[\"db\" + str(k+1)]**2   \r\n",
        "\r\n",
        "          weights[\"w\" + str(k+1)] -= eta * np.divide(gradients[\"dw\" + str(k+1)], np.sqrt(v[\"w\" + str(k+1)] + epsilon))        \r\n",
        "          weights[\"b\" + str(k+1)] -= eta * np.divide(gradients[\"db\" + str(k+1)], np.sqrt(v[\"b\" + str(k+1)] + epsilon))\r\n",
        "\r\n",
        "\r\n",
        "    training_loss, training_accuracy, validation_loss, validation_accuracy = calculate_loss_accuracy(train_x, train_y, test_x, test_y, weights, nn_layers)\r\n",
        "\r\n",
        "    training_loss_list.append(training_loss)\r\n",
        "    training_accuracy_list.append(training_accuracy)\r\n",
        "    validation_loss_list.append(validation_loss)\r\n",
        "    validation_accuracy_list.append(validation_accuracy)\r\n",
        "\r\n",
        "    print((str(i+1)) + \"/\" + str(epochs) + \" completed\")\r\n",
        "\r\n",
        "  return weights, training_loss_list, training_accuracy_list, validation_loss_list, validation_accuracy_list"
      ],
      "execution_count": 24,
      "outputs": []
    },
    {
      "cell_type": "code",
      "metadata": {
        "id": "x-knM5XaaYiC"
      },
      "source": [
        "def adam(train_x, train_y, test_x, test_y, weights, nn_layers, eta, epochs, n_batches):\r\n",
        "\r\n",
        "  training_loss_list = []\r\n",
        "  training_accuracy_list = []\r\n",
        "  validation_loss_list = []\r\n",
        "  validation_accuracy_list = []\r\n",
        "\r\n",
        "  batch_x = np.array(np.array_split(train_x, n_batches))\r\n",
        "  batch_y = np.array(np.array_split(train_y, n_batches))\r\n",
        "\r\n",
        "  v = {}\r\n",
        "  v_hat = {}\r\n",
        "  m = {}\r\n",
        "  m_hat = {}\r\n",
        "\r\n",
        "  beta1 = 0.9\r\n",
        "  beta2 = 0.999\r\n",
        "  epsilon = 1e-8\r\n",
        "\r\n",
        "  for k, layer in enumerate(nn_layers):\r\n",
        "          v[\"w\" + str(k+1)] = np.zeros(weights[\"w\" + str(k+1)].shape)    \r\n",
        "          v[\"b\" + str(k+1)] = np.zeros(weights[\"b\" + str(k+1)].shape)\r\n",
        "          m[\"w\" + str(k+1)] = np.zeros(weights[\"w\" + str(k+1)].shape)    \r\n",
        "          m[\"b\" + str(k+1)] = np.zeros(weights[\"b\" + str(k+1)].shape) \r\n",
        "\r\n",
        "  t = 0\r\n",
        "\r\n",
        "  for i in range(epochs):\r\n",
        "    for j in range(n_batches):\r\n",
        "\r\n",
        "        t += 1\r\n",
        "\r\n",
        "        y_hat, layer_output = forward_prop(batch_x[j], weights, nn_layers)\r\n",
        "        gradients = back_prop(y_hat, batch_y[j], layer_output, weights, nn_layers)\r\n",
        "\r\n",
        "        for k, layer in enumerate(nn_layers):\r\n",
        "          v[\"w\" + str(k+1)] = beta2 * v[\"w\" + str(k+1)] + (1-beta2) * gradients[\"dw\" + str(k+1)]**2     \r\n",
        "          v[\"b\" + str(k+1)] = beta2 * v[\"b\" + str(k+1)] + (1-beta2) * gradients[\"db\" + str(k+1)]**2 \r\n",
        "\r\n",
        "          m[\"w\" + str(k+1)] = beta1 * m[\"w\" + str(k+1)] + (1-beta1) * gradients[\"dw\" + str(k+1)]    \r\n",
        "          m[\"b\" + str(k+1)] = beta1 * m[\"b\" + str(k+1)] + (1-beta1) * gradients[\"db\" + str(k+1)] \r\n",
        "\r\n",
        "          v_hat[\"w\" + str(k+1)] = np.divide(v[\"w\" + str(k+1)], (1-beta2**t))\r\n",
        "          v_hat[\"b\" + str(k+1)] = np.divide(v[\"b\" + str(k+1)], (1-beta2**t))\r\n",
        "\r\n",
        "          m_hat[\"w\" + str(k+1)] = np.divide(m[\"w\" + str(k+1)], (1-beta1**t))\r\n",
        "          m_hat[\"b\" + str(k+1)] = np.divide(m[\"b\" + str(k+1)], (1-beta1**t))\r\n",
        "\r\n",
        "          weights[\"w\" + str(k+1)] -= eta * np.divide(m_hat[\"w\" + str(k+1)], np.sqrt(v_hat[\"w\" + str(k+1)] + epsilon))        \r\n",
        "          weights[\"b\" + str(k+1)] -= eta * np.divide(m_hat[\"b\" + str(k+1)], np.sqrt(v_hat[\"b\" + str(k+1)] + epsilon))\r\n",
        "\r\n",
        "\r\n",
        "    training_loss, training_accuracy, validation_loss, validation_accuracy = calculate_loss_accuracy(train_x, train_y, test_x, test_y, weights, nn_layers)\r\n",
        "\r\n",
        "    training_loss_list.append(training_loss)\r\n",
        "    training_accuracy_list.append(training_accuracy)\r\n",
        "    validation_loss_list.append(validation_loss)\r\n",
        "    validation_accuracy_list.append(validation_accuracy)\r\n",
        "\r\n",
        "    print((str(i+1)) + \"/\" + str(epochs) + \" completed\")\r\n",
        "\r\n",
        "  return weights, training_loss_list, training_accuracy_list, validation_loss_list, validation_accuracy_list"
      ],
      "execution_count": 25,
      "outputs": []
    },
    {
      "cell_type": "code",
      "metadata": {
        "id": "fykglQFQaWpd"
      },
      "source": [
        "def nadam(train_x, train_y, test_x, test_y, weights, nn_layers, eta, epochs, n_batches):\r\n",
        "\r\n",
        "  training_loss_list = []\r\n",
        "  training_accuracy_list = []\r\n",
        "  validation_loss_list = []\r\n",
        "  validation_accuracy_list = []\r\n",
        "\r\n",
        "  batch_x = np.array(np.array_split(train_x, n_batches))\r\n",
        "  batch_y = np.array(np.array_split(train_y, n_batches))\r\n",
        "\r\n",
        "  v = {}\r\n",
        "  v_hat = {}\r\n",
        "  m = {}\r\n",
        "  m_hat = {}\r\n",
        "\r\n",
        "  look_ahead_w = {}\r\n",
        "  look_ahead_m_hat = {}\r\n",
        "  look_ahead_v_hat = {}\r\n",
        "\r\n",
        "  beta1 = 0.9\r\n",
        "  beta2 = 0.999\r\n",
        "  epsilon = 1e-8\r\n",
        "\r\n",
        "  for k, layer in enumerate(nn_layers):\r\n",
        "          v[\"w\" + str(k+1)] = np.zeros(weights[\"w\" + str(k+1)].shape)    \r\n",
        "          v[\"b\" + str(k+1)] = np.zeros(weights[\"b\" + str(k+1)].shape)\r\n",
        "          m[\"w\" + str(k+1)] = np.zeros(weights[\"w\" + str(k+1)].shape)    \r\n",
        "          m[\"b\" + str(k+1)] = np.zeros(weights[\"b\" + str(k+1)].shape) \r\n",
        "\r\n",
        "  t = 0\r\n",
        "\r\n",
        "  for i in range(epochs):\r\n",
        "    for j in range(n_batches):\r\n",
        "\r\n",
        "        t += 1\r\n",
        "\r\n",
        "        for k, layer in enumerate(nn_layers):\r\n",
        "\r\n",
        "          look_ahead_v_hat[\"w\" + str(k+1)] = np.divide(beta2 * v[\"w\" + str(k+1)], (1-beta2**t))\r\n",
        "          look_ahead_v_hat[\"b\" + str(k+1)] = np.divide(beta2 * v[\"b\" + str(k+1)], (1-beta2**t))\r\n",
        "\r\n",
        "          look_ahead_m_hat[\"w\" + str(k+1)] = np.divide(beta1 * m[\"w\" + str(k+1)], (1-beta1**t))\r\n",
        "          look_ahead_m_hat[\"b\" + str(k+1)] = np.divide(beta1 * m[\"b\" + str(k+1)], (1-beta1**t))\r\n",
        "\r\n",
        "          look_ahead_w[\"w\" + str(k+1)] = weights[\"w\" + str(k+1)] - eta * np.divide(look_ahead_m_hat[\"w\" + str(k+1)], np.sqrt(look_ahead_v_hat[\"w\" + str(k+1)] + epsilon))\r\n",
        "          look_ahead_w[\"b\" + str(k+1)] = weights[\"b\" + str(k+1)] - eta * np.divide(look_ahead_m_hat[\"b\" + str(k+1)], np.sqrt(look_ahead_v_hat[\"b\" + str(k+1)] + epsilon))\r\n",
        "\r\n",
        "        y_hat, layer_output = forward_prop(batch_x[j], look_ahead_w, nn_layers)\r\n",
        "        gradients = back_prop(y_hat, batch_y[j], layer_output, look_ahead_w, nn_layers)\r\n",
        "\r\n",
        "        for k, layer in enumerate(nn_layers):\r\n",
        "          \r\n",
        "          v[\"w\" + str(k+1)] = beta2 * v[\"w\" + str(k+1)] + (1-beta2) * gradients[\"dw\" + str(k+1)]**2     \r\n",
        "          v[\"b\" + str(k+1)] = beta2 * v[\"b\" + str(k+1)] + (1-beta2) * gradients[\"db\" + str(k+1)]**2 \r\n",
        "\r\n",
        "          m[\"w\" + str(k+1)] = beta1 * m[\"w\" + str(k+1)] + (1-beta1) * gradients[\"dw\" + str(k+1)]    \r\n",
        "          m[\"b\" + str(k+1)] = beta1 * m[\"b\" + str(k+1)] + (1-beta1) * gradients[\"db\" + str(k+1)] \r\n",
        "\r\n",
        "          v_hat[\"w\" + str(k+1)] = np.divide(v[\"w\" + str(k+1)], (1-beta2**t))\r\n",
        "          v_hat[\"b\" + str(k+1)] = np.divide(v[\"b\" + str(k+1)], (1-beta2**t))\r\n",
        "\r\n",
        "          m_hat[\"w\" + str(k+1)] = np.divide(m[\"w\" + str(k+1)], (1-beta1**t))\r\n",
        "          m_hat[\"b\" + str(k+1)] = np.divide(m[\"b\" + str(k+1)], (1-beta1**t))\r\n",
        "\r\n",
        "          weights[\"w\" + str(k+1)] -= eta * np.divide(m_hat[\"w\" + str(k+1)], np.sqrt(v_hat[\"w\" + str(k+1)] + epsilon))        \r\n",
        "          weights[\"b\" + str(k+1)] -= eta * np.divide(m_hat[\"b\" + str(k+1)], np.sqrt(v_hat[\"b\" + str(k+1)] + epsilon))\r\n",
        "\r\n",
        "\r\n",
        "    training_loss, training_accuracy, validation_loss, validation_accuracy = calculate_loss_accuracy(train_x, train_y, test_x, test_y, weights, nn_layers)\r\n",
        "\r\n",
        "    training_loss_list.append(training_loss)\r\n",
        "    training_accuracy_list.append(training_accuracy)\r\n",
        "    validation_loss_list.append(validation_loss)\r\n",
        "    validation_accuracy_list.append(validation_accuracy)\r\n",
        "\r\n",
        "    print((str(i+1)) + \"/\" + str(epochs) + \" completed\")\r\n",
        "\r\n",
        "  return weights, training_loss_list, training_accuracy_list, validation_loss_list, validation_accuracy_list"
      ],
      "execution_count": 26,
      "outputs": []
    },
    {
      "cell_type": "code",
      "metadata": {
        "id": "X4aDXCVWXLdY"
      },
      "source": [
        "def train(train_x, train_y, test_x, test_y, nn_layers, epochs, eta, batch_size, optimizer):\r\n",
        "    \r\n",
        "    weights = init_layers(nn_layers)\r\n",
        "    \r\n",
        "    n_batches = len(train_x)//batch_size\r\n",
        "\r\n",
        "    if optimizer == \"gradient_descent\":\r\n",
        "      weights, training_loss_list, training_accuracy_list, validation_loss_list, validation_accuracy_list = gradient_descent(train_x, train_y, test_x, test_y, weights, nn_layers, eta, epochs, n_batches)\r\n",
        "\r\n",
        "    elif optimizer == \"momentum_gradient_descent\":\r\n",
        "      weights, training_loss_list, training_accuracy_list, validation_loss_list, validation_accuracy_list = momentum_gd(train_x, train_y, test_x, test_y, weights, nn_layers, eta, epochs, n_batches)\r\n",
        "\r\n",
        "    elif optimizer == \"nesterov_accelerated_gradient_descent\":\r\n",
        "      weights, training_loss_list, training_accuracy_list, validation_loss_list, validation_accuracy_list = nesterov_gd(train_x, train_y, test_x, test_y, weights, nn_layers, eta, epochs, n_batches)\r\n",
        "\r\n",
        "    elif optimizer == \"rmsprop\":\r\n",
        "      weights, training_loss_list, training_accuracy_list, validation_loss_list, validation_accuracy_list = rmsprop(train_x, train_y, test_x, test_y, weights, nn_layers, eta, epochs, n_batches)\r\n",
        "\r\n",
        "    elif optimizer == \"adam\":\r\n",
        "      weights, training_loss_list, training_accuracy_list, validation_loss_list, validation_accuracy_list = adam(train_x, train_y, test_x, test_y, weights, nn_layers, eta, epochs, n_batches)\r\n",
        "\r\n",
        "    elif optimizer == \"nadam\":\r\n",
        "      weights, training_loss_list, training_accuracy_list, validation_loss_list, validation_accuracy_list = nadam(train_x, train_y, test_x, test_y, weights, nn_layers, eta, epochs, n_batches)\r\n",
        "\r\n",
        "    else:\r\n",
        "      return \"Error - Wrong Optimizer\"\r\n",
        "        \r\n",
        "    return weights, training_loss_list, training_accuracy_list, validation_loss_list, validation_accuracy_list"
      ],
      "execution_count": 27,
      "outputs": []
    },
    {
      "cell_type": "code",
      "metadata": {
        "colab": {
          "base_uri": "https://localhost:8080/"
        },
        "id": "48Iavyp6wVzs",
        "outputId": "5d97b58c-3ed1-470c-8838-a49945ca2018"
      },
      "source": [
        "eta = 0.001\r\n",
        "epochs = 3\r\n",
        "batch_size = 16\r\n",
        "\r\n",
        "# batch_size = 1 for stochastic and batch_size = len(train_x) for batch updates\r\n",
        "\r\n",
        "optimizer = [\"gradient_descent\", \"momentum_gradient_descent\", \"nesterov_accelerated_gradient_descent\", \"rmsprop\", \"adam\", \"nadam\"]\r\n",
        "\r\n",
        "weights, train_loss, train_accuracy, validation_loss, validation_accuracy = train(train_x, train_y, test_x, test_y, nn_layers, epochs, eta, batch_size, optimizer[1])\r\n",
        "\r\n",
        "# y_hat, layer_output = forward_prop(train_x, weights, nn_layers)"
      ],
      "execution_count": 28,
      "outputs": [
        {
          "output_type": "stream",
          "text": [
            "1/3 completed\n",
            "2/3 completed\n",
            "3/3 completed\n"
          ],
          "name": "stdout"
        }
      ]
    },
    {
      "cell_type": "code",
      "metadata": {
        "id": "AgZeiRhf3ikV",
        "colab": {
          "base_uri": "https://localhost:8080/"
        },
        "outputId": "6ce7cb34-8a0f-4984-dd93-46420335ad00"
      },
      "source": [
        "train_loss"
      ],
      "execution_count": 30,
      "outputs": [
        {
          "output_type": "execute_result",
          "data": {
            "text/plain": [
              "[2.2977850776303743, 2.2732213666201764, 1.7929710069200044]"
            ]
          },
          "metadata": {
            "tags": []
          },
          "execution_count": 30
        }
      ]
    },
    {
      "cell_type": "code",
      "metadata": {
        "id": "kRrnSowfHVmu",
        "colab": {
          "base_uri": "https://localhost:8080/"
        },
        "outputId": "e2efca3f-9dc0-4419-c0ff-56d9724a0386"
      },
      "source": [
        "train_accuracy"
      ],
      "execution_count": 31,
      "outputs": [
        {
          "output_type": "execute_result",
          "data": {
            "text/plain": [
              "[0.11061666666666667, 0.30485, 0.2999]"
            ]
          },
          "metadata": {
            "tags": []
          },
          "execution_count": 31
        }
      ]
    },
    {
      "cell_type": "code",
      "metadata": {
        "id": "DATFWQ0wHW8O"
      },
      "source": [
        ""
      ],
      "execution_count": null,
      "outputs": []
    }
  ]
}