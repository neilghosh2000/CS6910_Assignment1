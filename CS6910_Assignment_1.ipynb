{
 "cells": [
  {
   "cell_type": "code",
   "execution_count": 1,
   "metadata": {
    "id": "OylGz6A0Dtb9"
   },
   "outputs": [
    {
     "name": "stderr",
     "output_type": "stream",
     "text": [
      "Using TensorFlow backend.\n"
     ]
    }
   ],
   "source": [
    "import wandb\n",
    "import numpy as np\n",
    "import pickle\n",
    "import matplotlib.pyplot as plt\n",
    "from keras.datasets import fashion_mnist\n",
    "from tensorflow.keras.preprocessing.image import ImageDataGenerator"
   ]
  },
  {
   "cell_type": "code",
   "execution_count": 2,
   "metadata": {
    "colab": {
     "base_uri": "https://localhost:8080/"
    },
    "id": "r0X8wGjVGJDf",
    "outputId": "e88f7784-747e-45f4-c264-09e72b551668"
   },
   "outputs": [],
   "source": [
    "# the best set of hyperparameters that we get from the sweep\n",
    "default_parameters = dict(\n",
    "    n_layers= 4,\n",
    "    hidden_layer_size= 128,\n",
    "    learn_rate= 1e-3,\n",
    "    batch_size = 16,\n",
    "    epochs=10,\n",
    "    alpha = 0,\n",
    "    optimizer = \"nadam\",\n",
    "    activation = \"relu\",\n",
    "    weight_init = \"random\"\n",
    "    )\n",
    "config = default_parameters"
   ]
  },
  {
   "cell_type": "code",
   "execution_count": 3,
   "metadata": {},
   "outputs": [
    {
     "name": "stderr",
     "output_type": "stream",
     "text": [
      "wandb: Currently logged in as: arneshbose1 (use `wandb login --relogin` to force relogin)\n",
      "wandb: wandb version 0.10.22 is available!  To upgrade, please run:\n",
      "wandb:  $ pip install wandb --upgrade\n"
     ]
    },
    {
     "data": {
      "text/html": [
       "\n",
       "                Tracking run with wandb version 0.10.21<br/>\n",
       "                Syncing run <strong style=\"color:#cdcd00\">astral-blaze-325</strong> to <a href=\"https://wandb.ai\" target=\"_blank\">Weights & Biases</a> <a href=\"https://docs.wandb.com/integrations/jupyter.html\" target=\"_blank\">(Documentation)</a>.<br/>\n",
       "                Project page: <a href=\"https://wandb.ai/neilghosh/cs6910_assignment_1\" target=\"_blank\">https://wandb.ai/neilghosh/cs6910_assignment_1</a><br/>\n",
       "                Run page: <a href=\"https://wandb.ai/neilghosh/cs6910_assignment_1/runs/2yndx8mg\" target=\"_blank\">https://wandb.ai/neilghosh/cs6910_assignment_1/runs/2yndx8mg</a><br/>\n",
       "                Run data is saved locally in <code>C:\\Users\\Arnesh Kumar Bose\\Desktop\\CS6910 Assignments\\wandb\\run-20210313_183718-2yndx8mg</code><br/><br/>\n",
       "            "
      ],
      "text/plain": [
       "<IPython.core.display.HTML object>"
      ]
     },
     "metadata": {},
     "output_type": "display_data"
    }
   ],
   "source": [
    "run = wandb.init(config= default_parameters,project=\"cs6910_assignment_1\", entity=\"neilghosh\")\n",
    "config = wandb.config"
   ]
  },
  {
   "cell_type": "code",
   "execution_count": 4,
   "metadata": {
    "id": "4imZB0mnKMzw"
   },
   "outputs": [],
   "source": [
    "#import the data\n",
    "(train_images, train_labels), (test_images, test_labels) = fashion_mnist.load_data()\n",
    "\n",
    "#store the image class names\n",
    "class_names = ['T-shirt/top', 'Trouser', 'Pullover', 'Dress', 'Coat',\n",
    "               'Sandal', 'Shirt', 'Sneaker', 'Bag', 'Ankle boot']"
   ]
  },
  {
   "cell_type": "code",
   "execution_count": 5,
   "metadata": {
    "id": "-TURP1gZDx19"
   },
   "outputs": [
    {
     "data": {
      "image/png": "[encoded data removed]",
      "text/plain": [
       "<Figure size 720x360 with 10 Axes>"
      ]
     },
     "metadata": {},
     "output_type": "display_data"
    }
   ],
   "source": [
    "# plot one sample image from each class\n",
    "sample_images = []\n",
    "plt.figure(figsize=(10,5))\n",
    "for i in range(len(class_names)):\n",
    "    sample_images.append(train_labels.tolist().index(i))\n",
    "    plt.subplot(2, 5, i+1)\n",
    "    plt.xticks([])\n",
    "    plt.yticks([])\n",
    "    plt.grid(False)\n",
    "    plt.imshow(train_images[sample_images[i]], cmap=plt.cm.binary)\n",
    "    plt.xlabel(class_names[train_labels[sample_images[i]]])\n",
    "    \n",
    "wandb.log({\"sample_images\": plt})"
   ]
  },
  {
   "cell_type": "code",
   "execution_count": 6,
   "metadata": {
    "id": "U_IQUlNd3RiF"
   },
   "outputs": [],
   "source": [
    "# convert integer to one-hot vector\n",
    "def one_hot_vector(x):\n",
    "    y = np.zeros((x.size, x.max()+1))\n",
    "    y[np.arange(x.size),x] = 1\n",
    "    return y"
   ]
  },
  {
   "cell_type": "code",
   "execution_count": 7,
   "metadata": {
    "id": "GhNlOGf1Pzim"
   },
   "outputs": [],
   "source": [
    "def activation_func(z, activation=\"sigmoid\"):\n",
    "    if activation == \"sigmoid\":\n",
    "        return 1 / (1 + np.exp(-z))\n",
    "    elif activation == \"softmax\":\n",
    "        z1 = np.exp(z)\n",
    "        z2 = z1.sum(axis=1)\n",
    "        z2 = np.dstack([z2])\n",
    "        return z1/z2\n",
    "    elif activation == \"tanh\":\n",
    "        return (np.exp(z) - np.exp(-z)) / (np.exp(z) + np.exp(-z))\n",
    "    elif activation == \"relu\":\n",
    "        return np.maximum(0, z)\n",
    "\n",
    "    else:\n",
    "        return \"Error\""
   ]
  },
  {
   "cell_type": "code",
   "execution_count": 8,
   "metadata": {
    "id": "7GFem9XQSzZ3"
   },
   "outputs": [],
   "source": [
    "def activation_derivative(z, activation=\"sigmoid\"):\n",
    "    if activation == \"sigmoid\":\n",
    "      sig = 1 / (1 + np.exp(-z))\n",
    "      return sig*(1-sig)\n",
    "    elif activation == \"tanh\":\n",
    "      tanh = (np.exp(z) - np.exp(-z)) / (np.exp(z) + np.exp(-z))\n",
    "      return 1 - tanh**2\n",
    "    elif activation == \"relu\":\n",
    "      relu = np.maximum(0, z)\n",
    "      relu[relu > 0] = 1\n",
    "      return relu\n",
    "    else:\n",
    "      return \"Error\""
   ]
  },
  {
   "cell_type": "code",
   "execution_count": 9,
   "metadata": {
    "id": "HichVkAxT6jR"
   },
   "outputs": [],
   "source": [
    "# training on the entire data set\n",
    "input_size = train_images.shape[1]*train_images.shape[2]\n",
    "output_size = len(class_names)\n",
    "\n",
    "train_x = train_images.reshape([train_images.shape[0], input_size, 1])/255\n",
    "test_x = test_images.reshape([test_images.shape[0], input_size, 1])/255\n",
    "\n",
    "# shuffle the training data\n",
    "indices = np.arange(train_x.shape[0])\n",
    "np.random.shuffle(indices)\n",
    "\n",
    "train_y = one_hot_vector(train_labels)\n",
    "test_y = one_hot_vector(test_labels)\n",
    "\n",
    "train_x = train_x[indices]\n",
    "train_y = train_y[indices]\n",
    "\n",
    "train_y = np.dstack([train_y])\n",
    "test_y = np.dstack([test_y])"
   ]
  },
  {
   "cell_type": "code",
   "execution_count": 10,
   "metadata": {
    "id": "IWsjJKH2WDUP"
   },
   "outputs": [],
   "source": [
    "nn_layers = [{\"input_dim\" : input_size, \"output_dim\" : config.hidden_layer_size, \"activation\" : config.activation}]\n",
    "for i in range(config.n_layers-1):\n",
    "  nn_layers.append({\"input_dim\" : config.hidden_layer_size, \"output_dim\" : config.hidden_layer_size, \"activation\" : config.activation})\n",
    "nn_layers.append({\"input_dim\" : config.hidden_layer_size, \"output_dim\" : output_size, \"activation\" : \"softmax\"})"
   ]
  },
  {
   "cell_type": "code",
   "execution_count": 11,
   "metadata": {
    "colab": {
     "base_uri": "https://localhost:8080/"
    },
    "id": "Hv0LV8sA4IQU",
    "outputId": "01a5cf74-ecae-4369-c311-addfda7389e3"
   },
   "outputs": [],
   "source": [
    "def init_layers(nn_layers, weight_init, seed = 45):\n",
    "    np.random.seed(seed)\n",
    "    weights = {}\n",
    "\n",
    "    for i, layer in enumerate(nn_layers):\n",
    "        layer_no = i + 1\n",
    "        layer_input_size = layer[\"input_dim\"]\n",
    "        layer_output_size = layer[\"output_dim\"]\n",
    "\n",
    "        if weight_init == \"random\":\n",
    "          weights['w' + str(layer_no)] = np.random.randn(layer_output_size, layer_input_size) * 0.1\n",
    "          weights['b' + str(layer_no)] = np.random.randn(layer_output_size, 1) * 0.1\n",
    "        elif weight_init == \"xavier\":\n",
    "          limit = np.sqrt(6/(layer_input_size + layer_output_size))\n",
    "          weights['w' + str(layer_no)] = np.random.uniform(-limit, limit, size=(layer_output_size, layer_input_size))\n",
    "          weights['b' + str(layer_no)] = np.random.uniform(-limit, limit, size=(layer_output_size, 1))\n",
    "        else:\n",
    "          return \"Error - Weight Initialization\"\n",
    "\n",
    "    return weights"
   ]
  },
  {
   "cell_type": "code",
   "execution_count": 12,
   "metadata": {
    "id": "pkgqoh355X8-"
   },
   "outputs": [],
   "source": [
    "def forward_prop(train_x, weights, nn_layers):\n",
    "    layer_output = {}\n",
    "    h_curr = train_x\n",
    "\n",
    "    layer_output[\"h0\"] = train_x\n",
    "    layer_output[\"a0\"] = train_x\n",
    "\n",
    "    for i, layer in enumerate(nn_layers):\n",
    "        layer_no = i + 1\n",
    "        h_prev = h_curr\n",
    "\n",
    "        activation = layer[\"activation\"]\n",
    "        w_curr = weights[\"w\" + str(layer_no)]\n",
    "        b_curr = weights[\"b\" + str(layer_no)]\n",
    "\n",
    "        a_curr = np.matmul(w_curr, h_prev) + b_curr\n",
    "        h_curr = activation_func(a_curr, activation)\n",
    "\n",
    "        layer_output[\"a\" + str(layer_no)] = a_curr\n",
    "        layer_output[\"h\" + str(layer_no)] = h_curr\n",
    "\n",
    "    return h_curr, layer_output"
   ]
  },
  {
   "cell_type": "code",
   "execution_count": 13,
   "metadata": {
    "id": "zDkhAt5187Ia"
   },
   "outputs": [],
   "source": [
    "# cross entropy loss + regularization\n",
    "\n",
    "def loss_func(y_hat, y, alpha, weights, nn_layers,func='cross_entropy'):\n",
    "    loss = 0\n",
    "    if func=='cross_entropy':\n",
    "        loss = -np.multiply(y, np.log(y_hat)).sum() / len(y_hat)\n",
    "    elif func=='squared_loss':\n",
    "        squared_diff = np.square(y-y_hat)\n",
    "        loss = squared_diff.sum()/(2*len(y_hat))\n",
    "\n",
    "    l2_reg = 0\n",
    "    for i, layer in enumerate(nn_layers):\n",
    "        layer_no = i + 1\n",
    "        l2_reg += np.sum(weights[\"w\" + str(layer_no)] ** 2)\n",
    "\n",
    "    l2_reg = (alpha / 2) * l2_reg / len(y_hat)\n",
    "\n",
    "    return loss + l2_reg\n",
    "\n",
    "# accuracy\n",
    "def accuracy_func(y_hat, train_y):\n",
    "    correct_pred = np.argmax(y_hat, axis = 1) == np.argmax(train_y, axis = 1)\n",
    "    return sum(bool(x) for x in correct_pred)/len(y_hat)"
   ]
  },
  {
   "cell_type": "code",
   "execution_count": 14,
   "metadata": {
    "id": "X4aDXCVWXLdY"
   },
   "outputs": [],
   "source": [
    "def back_prop(y_hat, y, layer_output, weights, nn_layers, alpha, func='cross_entropy'):\n",
    "    gradients = {}\n",
    "    \n",
    "    m = len(y_hat)\n",
    "\n",
    "    da_prev = np.zeros(y_hat.shape)\n",
    "\n",
    "    if func=='cross_entropy':\n",
    "        da_prev = -(y - y_hat)\n",
    "    elif func=='squared_loss':\n",
    "        y_label = np.where(y[:,:,0] == 1)[1]\n",
    "        da_prev = np.zeros(y_hat.shape)\n",
    "        for i in range(m):\n",
    "            y_l_hat = np.ones((y_hat.shape[1],y_hat.shape[2]))*y_hat[:,y_label[i]][i]\n",
    "            da_prev[i] = np.multiply(np.square(y_hat - y)[i], y_l_hat)\n",
    "    else:\n",
    "        da_prev = np.zeros(y_hat.shape)\n",
    "        print(\"Error - wrong loss function\")\n",
    "            \n",
    "    for i, layer in reversed(list(enumerate(nn_layers))):\n",
    "        layer_index = i + 1\n",
    "\n",
    "        da_curr = da_prev\n",
    "\n",
    "        a_prev = layer_output[\"a\" + str(i)]\n",
    "        h_prev = layer_output[\"h\" + str(i)]\n",
    "        dh_prev = np.zeros(h_prev.shape)\n",
    "\n",
    "        a_curr = layer_output[\"a\" + str(layer_index)]\n",
    "        w_curr = weights[\"w\" + str(layer_index)]\n",
    "        b_curr = weights[\"b\" + str(layer_index)]\n",
    "        dw_curr = np.zeros(w_curr.shape)\n",
    "        db_curr = np.zeros(b_curr.shape)\n",
    "\n",
    "        for j in range(m):\n",
    "            dw_curr += np.dot(da_curr[j], h_prev[j].T)\n",
    "            db_curr += da_curr[j]\n",
    "            dh_prev[j] = np.dot(w_curr.T, da_curr[j])\n",
    "\n",
    "        dw_curr += alpha * w_curr\n",
    "\n",
    "        dw_curr /= m\n",
    "        db_curr /= m\n",
    "\n",
    "        if i > 0:\n",
    "            activation = nn_layers[i - 1][\"activation\"]\n",
    "            da_prev = np.multiply(dh_prev, activation_derivative(a_prev, activation))\n",
    "\n",
    "        gradients[\"dw\" + str(layer_index)] = dw_curr\n",
    "        gradients[\"db\" + str(layer_index)] = db_curr\n",
    "\n",
    "    return gradients"
   ]
  },
  {
   "cell_type": "code",
   "execution_count": 15,
   "metadata": {
    "colab": {
     "background_save": true
    },
    "id": "48Iavyp6wVzs"
   },
   "outputs": [],
   "source": [
    "def calculate_loss_accuracy(train_x, train_y, test_x, test_y, weights, nn_layers, alpha,func='cross_entropy'):\n",
    "\n",
    "    y_hat, layer_output = forward_prop(train_x, weights, nn_layers)\n",
    "    training_loss = (loss_func(y_hat, train_y, alpha, weights, nn_layers,func))\n",
    "    training_accuracy = (accuracy_func(y_hat, train_y))\n",
    "\n",
    "    y_hat, layer_output = forward_prop(test_x, weights, nn_layers)\n",
    "    test_loss = (loss_func(y_hat, test_y, alpha, weights, nn_layers,func))\n",
    "    test_accuracy = (accuracy_func(y_hat, test_y))\n",
    "\n",
    "    wandb.log({\"train_loss\": training_loss, \"train_accuracy\": training_accuracy, \"test_loss\": test_loss, \"test_accuracy\": test_accuracy})\n",
    "\n",
    "    return training_loss, training_accuracy, test_loss, test_accuracy"
   ]
  },
  {
   "cell_type": "code",
   "execution_count": 16,
   "metadata": {
    "id": "AgZeiRhf3ikV"
   },
   "outputs": [],
   "source": [
    "def gradient_descent(train_x, train_y, test_x, test_y, weights, nn_layers, eta, epochs, n_batches, alpha,func='cross_entropy'):\n",
    "\n",
    "  training_loss_list = []\n",
    "  training_accuracy_list = []\n",
    "  test_loss_list = []\n",
    "  test_accuracy_list = []\n",
    "\n",
    "  batch_x = np.array(np.array_split(train_x, n_batches))\n",
    "  batch_y = np.array(np.array_split(train_y, n_batches))\n",
    "\n",
    "  for i in range(epochs):\n",
    "    for j in range(n_batches):\n",
    "\n",
    "        y_hat, layer_output = forward_prop(batch_x[j], weights, nn_layers)\n",
    "        gradients = back_prop(y_hat, batch_y[j], layer_output, weights, nn_layers, alpha,func)\n",
    "\n",
    "        for k, layer in enumerate(nn_layers):\n",
    "          weights[\"w\" + str(k+1)] -= eta * gradients[\"dw\" + str(k+1)]\n",
    "          weights[\"b\" + str(k+1)] -= eta * gradients[\"db\" + str(k+1)]\n",
    "\n",
    "    training_loss, training_accuracy, test_loss, test_accuracy = calculate_loss_accuracy(train_x, train_y, test_x, test_y, weights, nn_layers, alpha,func)\n",
    "\n",
    "    training_loss_list.append(training_loss)\n",
    "    training_accuracy_list.append(training_accuracy)\n",
    "    test_loss_list.append(test_loss)\n",
    "    test_accuracy_list.append(test_accuracy)\n",
    "\n",
    "    print((str(i+1)) + \"/\" + str(epochs) + \" epochs completed\")\n",
    "\n",
    "  return weights, training_loss_list, training_accuracy_list, test_loss_list, test_accuracy_list"
   ]
  },
  {
   "cell_type": "code",
   "execution_count": 17,
   "metadata": {},
   "outputs": [],
   "source": [
    "def momentum_gd(train_x, train_y, test_x, test_y, weights, nn_layers, eta, epochs, n_batches, alpha,func='cross_entropy'):\n",
    "\n",
    "  training_loss_list = []\n",
    "  training_accuracy_list = []\n",
    "  test_loss_list = []\n",
    "  test_accuracy_list = []\n",
    "\n",
    "  batch_x = np.array(np.array_split(train_x, n_batches))\n",
    "  batch_y = np.array(np.array_split(train_y, n_batches))\n",
    "\n",
    "  prev_weights = {}\n",
    "\n",
    "  gamma = 0.9\n",
    "\n",
    "  for k, layer in enumerate(nn_layers):\n",
    "          prev_weights[\"w\" + str(k+1)] = np.zeros(weights[\"w\" + str(k+1)].shape)\n",
    "          prev_weights[\"b\" + str(k+1)] = np.zeros(weights[\"b\" + str(k+1)].shape)\n",
    "\n",
    "  for i in range(epochs):\n",
    "    for j in range(n_batches):\n",
    "\n",
    "        y_hat, layer_output = forward_prop(batch_x[j], weights, nn_layers)\n",
    "        gradients = back_prop(y_hat, batch_y[j], layer_output, weights, nn_layers, alpha,func)\n",
    "\n",
    "        for k, layer in enumerate(nn_layers):\n",
    "          prev_weights[\"w\" + str(k+1)] = gamma * prev_weights[\"w\" + str(k+1)] + eta * gradients[\"dw\" + str(k+1)]\n",
    "          prev_weights[\"b\" + str(k+1)] = gamma * prev_weights[\"b\" + str(k+1)] + eta * gradients[\"db\" + str(k+1)]\n",
    "\n",
    "          weights[\"w\" + str(k+1)] -= prev_weights[\"w\" + str(k+1)]\n",
    "          weights[\"b\" + str(k+1)] -= prev_weights[\"b\" + str(k+1)]\n",
    "\n",
    "\n",
    "    training_loss, training_accuracy, test_loss, test_accuracy = calculate_loss_accuracy(train_x, train_y, test_x, test_y, weights, nn_layers, alpha,func)\n",
    "\n",
    "    training_loss_list.append(training_loss)\n",
    "    training_accuracy_list.append(training_accuracy)\n",
    "    test_loss_list.append(test_loss)\n",
    "    test_accuracy_list.append(test_accuracy)\n",
    "\n",
    "    print((str(i+1)) + \"/\" + str(epochs) + \" completed\")\n",
    "\n",
    "  return weights, training_loss_list, training_accuracy_list, test_loss_list, test_accuracy_list\n"
   ]
  },
  {
   "cell_type": "code",
   "execution_count": 18,
   "metadata": {},
   "outputs": [],
   "source": [
    "def nesterov_gd(train_x, train_y, test_x, test_y, weights, nn_layers, eta, epochs, n_batches, alpha,func='cross_entropy'):\n",
    "    training_loss_list = []\n",
    "    training_accuracy_list = []\n",
    "    test_loss_list = []\n",
    "    test_accuracy_list = []\n",
    "\n",
    "    batch_x = np.array(np.array_split(train_x, n_batches))\n",
    "    batch_y = np.array(np.array_split(train_y, n_batches))\n",
    "\n",
    "    prev_weights = {}\n",
    "    look_ahead_w = {}\n",
    "\n",
    "    gamma = 0.9\n",
    "\n",
    "    for k, layer in enumerate(nn_layers):\n",
    "        prev_weights[\"w\" + str(k + 1)] = np.zeros(weights[\"w\" + str(k + 1)].shape)\n",
    "        prev_weights[\"b\" + str(k + 1)] = np.zeros(weights[\"b\" + str(k + 1)].shape)\n",
    "\n",
    "    for i in range(epochs):\n",
    "        for j in range(n_batches):\n",
    "\n",
    "            for k, layer in enumerate(nn_layers):\n",
    "                look_ahead_w[\"w\" + str(k + 1)] = weights[\"w\" + str(k + 1)] - gamma * prev_weights[\"w\" + str(k + 1)]\n",
    "                look_ahead_w[\"b\" + str(k + 1)] = weights[\"b\" + str(k + 1)] - gamma * prev_weights[\"b\" + str(k + 1)]\n",
    "\n",
    "            y_hat, layer_output = forward_prop(batch_x[j], look_ahead_w, nn_layers)\n",
    "            gradients = back_prop(y_hat, batch_y[j], layer_output, look_ahead_w, nn_layers, alpha,func)\n",
    "\n",
    "            for k, layer in enumerate(nn_layers):\n",
    "                prev_weights[\"w\" + str(k + 1)] = gamma * prev_weights[\"w\" + str(k + 1)] + eta * gradients[\n",
    "                    \"dw\" + str(k + 1)]\n",
    "                prev_weights[\"b\" + str(k + 1)] = gamma * prev_weights[\"b\" + str(k + 1)] + eta * gradients[\n",
    "                    \"db\" + str(k + 1)]\n",
    "\n",
    "                weights[\"w\" + str(k + 1)] -= prev_weights[\"w\" + str(k + 1)]\n",
    "                weights[\"b\" + str(k + 1)] -= prev_weights[\"b\" + str(k + 1)]\n",
    "\n",
    "        training_loss, training_accuracy, test_loss, test_accuracy = calculate_loss_accuracy(train_x,train_y,test_x, test_y,weights,nn_layers, alpha,func)\n",
    "\n",
    "        training_loss_list.append(training_loss)\n",
    "        training_accuracy_list.append(training_accuracy)\n",
    "        test_loss_list.append(test_loss)\n",
    "        test_accuracy_list.append(test_accuracy)\n",
    "\n",
    "        print((str(i + 1)) + \"/\" + str(epochs) + \" completed\")\n",
    "\n",
    "    return weights, training_loss_list, training_accuracy_list, test_loss_list, test_accuracy_list"
   ]
  },
  {
   "cell_type": "code",
   "execution_count": 19,
   "metadata": {},
   "outputs": [],
   "source": [
    "def rmsprop(train_x, train_y, test_x, test_y, weights, nn_layers, eta, epochs, n_batches, alpha,func='cross_entropy'):\n",
    "\n",
    "  training_loss_list = []\n",
    "  training_accuracy_list = []\n",
    "  test_loss_list = []\n",
    "  test_accuracy_list = []\n",
    "\n",
    "  batch_x = np.array(np.array_split(train_x, n_batches))\n",
    "  batch_y = np.array(np.array_split(train_y, n_batches))\n",
    "\n",
    "  v = {}\n",
    "\n",
    "  beta = 0.9\n",
    "  epsilon = 1e-8\n",
    "\n",
    "  for k, layer in enumerate(nn_layers):\n",
    "          v[\"w\" + str(k+1)] = np.zeros(weights[\"w\" + str(k+1)].shape)\n",
    "          v[\"b\" + str(k+1)] = np.zeros(weights[\"b\" + str(k+1)].shape)\n",
    "\n",
    "  for i in range(epochs):\n",
    "    for j in range(n_batches):\n",
    "\n",
    "        y_hat, layer_output = forward_prop(batch_x[j], weights, nn_layers)\n",
    "        gradients = back_prop(y_hat, batch_y[j], layer_output, weights, nn_layers, alpha,func)\n",
    "\n",
    "        for k, layer in enumerate(nn_layers):\n",
    "          v[\"w\" + str(k+1)] = beta * v[\"w\" + str(k+1)] + (1-beta) * gradients[\"dw\" + str(k+1)]**2\n",
    "          v[\"b\" + str(k+1)] = beta * v[\"b\" + str(k+1)] + (1-beta) * gradients[\"db\" + str(k+1)]**2\n",
    "\n",
    "          weights[\"w\" + str(k+1)] -= eta * np.divide(gradients[\"dw\" + str(k+1)], np.sqrt(v[\"w\" + str(k+1)] + epsilon))\n",
    "          weights[\"b\" + str(k+1)] -= eta * np.divide(gradients[\"db\" + str(k+1)], np.sqrt(v[\"b\" + str(k+1)] + epsilon))\n",
    "\n",
    "\n",
    "    training_loss, training_accuracy, test_loss, test_accuracy = calculate_loss_accuracy(train_x, train_y, test_x, test_y, weights, nn_layers, alpha,func)\n",
    "\n",
    "    training_loss_list.append(training_loss)\n",
    "    training_accuracy_list.append(training_accuracy)\n",
    "    test_loss_list.append(test_loss)\n",
    "    test_accuracy_list.append(test_accuracy)\n",
    "\n",
    "    print((str(i+1)) + \"/\" + str(epochs) + \" completed\")\n",
    "\n",
    "  return weights, training_loss_list, training_accuracy_list, test_loss_list, test_accuracy_list"
   ]
  },
  {
   "cell_type": "code",
   "execution_count": 20,
   "metadata": {},
   "outputs": [],
   "source": [
    "def adam(train_x, train_y, test_x, test_y, weights, nn_layers, eta, epochs, n_batches, alpha,func='cross_entropy'):\n",
    "\n",
    "  training_loss_list = []\n",
    "  training_accuracy_list = []\n",
    "  test_loss_list = []\n",
    "  test_accuracy_list = []\n",
    "\n",
    "  batch_x = np.array(np.array_split(train_x, n_batches))\n",
    "  batch_y = np.array(np.array_split(train_y, n_batches))\n",
    "\n",
    "  v = {}\n",
    "  v_hat = {}\n",
    "  m = {}\n",
    "  m_hat = {}\n",
    "\n",
    "  beta1 = 0.9\n",
    "  beta2 = 0.999\n",
    "  epsilon = 1e-8\n",
    "\n",
    "  for k, layer in enumerate(nn_layers):\n",
    "          v[\"w\" + str(k+1)] = np.zeros(weights[\"w\" + str(k+1)].shape)\n",
    "          v[\"b\" + str(k+1)] = np.zeros(weights[\"b\" + str(k+1)].shape)\n",
    "          m[\"w\" + str(k+1)] = np.zeros(weights[\"w\" + str(k+1)].shape)\n",
    "          m[\"b\" + str(k+1)] = np.zeros(weights[\"b\" + str(k+1)].shape)\n",
    "\n",
    "  t = 0\n",
    "\n",
    "  for i in range(epochs):\n",
    "    for j in range(n_batches):\n",
    "\n",
    "        t += 1\n",
    "\n",
    "        y_hat, layer_output = forward_prop(batch_x[j], weights, nn_layers)\n",
    "        gradients = back_prop(y_hat, batch_y[j], layer_output, weights, nn_layers, alpha,func)\n",
    "\n",
    "        for k, layer in enumerate(nn_layers):\n",
    "          v[\"w\" + str(k+1)] = beta2 * v[\"w\" + str(k+1)] + (1-beta2) * gradients[\"dw\" + str(k+1)]**2\n",
    "          v[\"b\" + str(k+1)] = beta2 * v[\"b\" + str(k+1)] + (1-beta2) * gradients[\"db\" + str(k+1)]**2\n",
    "\n",
    "          m[\"w\" + str(k+1)] = beta1 * m[\"w\" + str(k+1)] + (1-beta1) * gradients[\"dw\" + str(k+1)]\n",
    "          m[\"b\" + str(k+1)] = beta1 * m[\"b\" + str(k+1)] + (1-beta1) * gradients[\"db\" + str(k+1)]\n",
    "\n",
    "          v_hat[\"w\" + str(k+1)] = np.divide(v[\"w\" + str(k+1)], (1-beta2**t))\n",
    "          v_hat[\"b\" + str(k+1)] = np.divide(v[\"b\" + str(k+1)], (1-beta2**t))\n",
    "\n",
    "          m_hat[\"w\" + str(k+1)] = np.divide(m[\"w\" + str(k+1)], (1-beta1**t))\n",
    "          m_hat[\"b\" + str(k+1)] = np.divide(m[\"b\" + str(k+1)], (1-beta1**t))\n",
    "\n",
    "          weights[\"w\" + str(k+1)] -= eta * np.divide(m_hat[\"w\" + str(k+1)], np.sqrt(v_hat[\"w\" + str(k+1)] + epsilon))\n",
    "          weights[\"b\" + str(k+1)] -= eta * np.divide(m_hat[\"b\" + str(k+1)], np.sqrt(v_hat[\"b\" + str(k+1)] + epsilon))\n",
    "\n",
    "\n",
    "    training_loss, training_accuracy, test_loss, test_accuracy = calculate_loss_accuracy(train_x, train_y, test_x, test_y, weights, nn_layers, alpha,func)\n",
    "\n",
    "    training_loss_list.append(training_loss)\n",
    "    training_accuracy_list.append(training_accuracy)\n",
    "    test_loss_list.append(test_loss)\n",
    "    test_accuracy_list.append(test_accuracy)\n",
    "\n",
    "    print((str(i+1)) + \"/\" + str(epochs) + \" completed\")\n",
    "\n",
    "  return weights, training_loss_list, training_accuracy_list, test_loss_list, test_accuracy_list"
   ]
  },
  {
   "cell_type": "code",
   "execution_count": 21,
   "metadata": {},
   "outputs": [],
   "source": [
    "def nadam(train_x, train_y, test_x, test_y, weights, nn_layers, eta, epochs, n_batches, alpha,func='cross_entropy'):\n",
    "    training_loss_list = []\n",
    "    training_accuracy_list = []\n",
    "    test_loss_list = []\n",
    "    test_accuracy_list = []\n",
    "\n",
    "    batch_x = np.array(np.array_split(train_x, n_batches))\n",
    "    batch_y = np.array(np.array_split(train_y, n_batches))\n",
    "\n",
    "    v = {}\n",
    "    v_hat = {}\n",
    "    m = {}\n",
    "    m_hat = {}\n",
    "\n",
    "    look_ahead_w = {}\n",
    "    look_ahead_m_hat = {}\n",
    "    look_ahead_v_hat = {}\n",
    "\n",
    "    beta1 = 0.9\n",
    "    beta2 = 0.999\n",
    "    epsilon = 1e-8\n",
    "\n",
    "    for k, layer in enumerate(nn_layers):\n",
    "        v[\"w\" + str(k + 1)] = np.zeros(weights[\"w\" + str(k + 1)].shape)\n",
    "        v[\"b\" + str(k + 1)] = np.zeros(weights[\"b\" + str(k + 1)].shape)\n",
    "        m[\"w\" + str(k + 1)] = np.zeros(weights[\"w\" + str(k + 1)].shape)\n",
    "        m[\"b\" + str(k + 1)] = np.zeros(weights[\"b\" + str(k + 1)].shape)\n",
    "\n",
    "    t = 0\n",
    "\n",
    "    for i in range(epochs):\n",
    "        for j in range(n_batches):\n",
    "\n",
    "            t += 1\n",
    "\n",
    "            for k, layer in enumerate(nn_layers):\n",
    "                look_ahead_v_hat[\"w\" + str(k + 1)] = np.divide(beta2 * v[\"w\" + str(k + 1)], (1 - beta2 ** t))\n",
    "                look_ahead_v_hat[\"b\" + str(k + 1)] = np.divide(beta2 * v[\"b\" + str(k + 1)], (1 - beta2 ** t))\n",
    "\n",
    "                look_ahead_m_hat[\"w\" + str(k + 1)] = np.divide(beta1 * m[\"w\" + str(k + 1)], (1 - beta1 ** t))\n",
    "                look_ahead_m_hat[\"b\" + str(k + 1)] = np.divide(beta1 * m[\"b\" + str(k + 1)], (1 - beta1 ** t))\n",
    "\n",
    "                look_ahead_w[\"w\" + str(k + 1)] = weights[\"w\" + str(k + 1)] - eta * np.divide(\n",
    "                    look_ahead_m_hat[\"w\" + str(k + 1)], np.sqrt(look_ahead_v_hat[\"w\" + str(k + 1)] + epsilon))\n",
    "                look_ahead_w[\"b\" + str(k + 1)] = weights[\"b\" + str(k + 1)] - eta * np.divide(\n",
    "                    look_ahead_m_hat[\"b\" + str(k + 1)], np.sqrt(look_ahead_v_hat[\"b\" + str(k + 1)] + epsilon))\n",
    "\n",
    "            y_hat, layer_output = forward_prop(batch_x[j], look_ahead_w, nn_layers)\n",
    "            gradients = back_prop(y_hat, batch_y[j], layer_output, look_ahead_w, nn_layers, alpha,func)\n",
    "\n",
    "            for k, layer in enumerate(nn_layers):\n",
    "                v[\"w\" + str(k + 1)] = beta2 * v[\"w\" + str(k + 1)] + (1 - beta2) * gradients[\"dw\" + str(k + 1)] ** 2\n",
    "                v[\"b\" + str(k + 1)] = beta2 * v[\"b\" + str(k + 1)] + (1 - beta2) * gradients[\"db\" + str(k + 1)] ** 2\n",
    "\n",
    "                m[\"w\" + str(k + 1)] = beta1 * m[\"w\" + str(k + 1)] + (1 - beta1) * gradients[\"dw\" + str(k + 1)]\n",
    "                m[\"b\" + str(k + 1)] = beta1 * m[\"b\" + str(k + 1)] + (1 - beta1) * gradients[\"db\" + str(k + 1)]\n",
    "\n",
    "                v_hat[\"w\" + str(k + 1)] = np.divide(v[\"w\" + str(k + 1)], (1 - beta2 ** t))\n",
    "                v_hat[\"b\" + str(k + 1)] = np.divide(v[\"b\" + str(k + 1)], (1 - beta2 ** t))\n",
    "\n",
    "                m_hat[\"w\" + str(k + 1)] = np.divide(m[\"w\" + str(k + 1)], (1 - beta1 ** t))\n",
    "                m_hat[\"b\" + str(k + 1)] = np.divide(m[\"b\" + str(k + 1)], (1 - beta1 ** t))\n",
    "\n",
    "                weights[\"w\" + str(k + 1)] -= eta * np.divide(m_hat[\"w\" + str(k + 1)],\n",
    "                                                             np.sqrt(v_hat[\"w\" + str(k + 1)] + epsilon))\n",
    "                weights[\"b\" + str(k + 1)] -= eta * np.divide(m_hat[\"b\" + str(k + 1)],\n",
    "                                                             np.sqrt(v_hat[\"b\" + str(k + 1)] + epsilon))\n",
    "\n",
    "        training_loss, training_accuracy, test_loss, test_accuracy = calculate_loss_accuracy(train_x,train_y,test_x, test_y,weights,nn_layers, alpha,func)\n",
    "\n",
    "        training_loss_list.append(training_loss)\n",
    "        training_accuracy_list.append(training_accuracy)\n",
    "        test_loss_list.append(test_loss)\n",
    "        test_accuracy_list.append(test_accuracy)\n",
    "\n",
    "        print((str(i + 1)) + \"/\" + str(epochs) + \" completed\")\n",
    "\n",
    "    return weights, training_loss_list, training_accuracy_list, test_loss_list, test_accuracy_list"
   ]
  },
  {
   "cell_type": "code",
   "execution_count": 22,
   "metadata": {},
   "outputs": [],
   "source": [
    "def train(train_x, train_y, test_x, test_y, nn_layers, epochs, eta, batch_size, optimizer, weight_init, alpha,\n",
    "          func='cross_entropy'):\n",
    "    weights = init_layers(nn_layers, weight_init)\n",
    "\n",
    "    n_batches = len(train_x) // batch_size\n",
    "\n",
    "    if optimizer == \"gradient_descent\":\n",
    "        weights, training_loss_list, training_accuracy_list, test_loss_list, test_accuracy_list = gradient_descent(\n",
    "            train_x, train_y, test_x, test_y, weights, nn_layers, eta, epochs, n_batches, alpha,func)\n",
    "\n",
    "    elif optimizer == \"momentum_gradient_descent\":\n",
    "        weights, training_loss_list, training_accuracy_list, test_loss_list, test_accuracy_list = momentum_gd(\n",
    "            train_x, train_y, test_x, test_y, weights, nn_layers, eta, epochs, n_batches, alpha,func)\n",
    "\n",
    "    elif optimizer == \"nesterov_accelerated_gradient_descent\":\n",
    "        weights, training_loss_list, training_accuracy_list, test_loss_list, test_accuracy_list = nesterov_gd(\n",
    "            train_x, train_y, test_x, test_y, weights, nn_layers, eta, epochs, n_batches, alpha,func)\n",
    "\n",
    "    elif optimizer == \"rmsprop\":\n",
    "        weights, training_loss_list, training_accuracy_list, test_loss_list, test_accuracy_list = rmsprop(\n",
    "            train_x, train_y, test_x, test_y, weights, nn_layers, eta, epochs, n_batches, alpha,func)\n",
    "\n",
    "    elif optimizer == \"adam\":\n",
    "        weights, training_loss_list, training_accuracy_list, test_loss_list, test_accuracy_list = adam(\n",
    "            train_x, train_y, test_x, test_y, weights, nn_layers, eta, epochs, n_batches, alpha,func)\n",
    "\n",
    "    elif optimizer == \"nadam\":\n",
    "        weights, training_loss_list, training_accuracy_list, test_loss_list, test_accuracy_list = nadam(\n",
    "            train_x, train_y, test_x, test_y, weights, nn_layers, eta, epochs, n_batches, alpha,func)\n",
    "\n",
    "    else:\n",
    "        return \"Error - Wrong Optimizer\"\n",
    "\n",
    "    return weights, training_loss_list, training_accuracy_list, test_loss_list, test_accuracy_list"
   ]
  },
  {
   "cell_type": "code",
   "execution_count": 23,
   "metadata": {},
   "outputs": [
    {
     "name": "stdout",
     "output_type": "stream",
     "text": [
      "1/10 completed\n",
      "2/10 completed\n",
      "3/10 completed\n",
      "4/10 completed\n",
      "5/10 completed\n",
      "6/10 completed\n",
      "7/10 completed\n",
      "8/10 completed\n",
      "9/10 completed\n",
      "10/10 completed\n"
     ]
    }
   ],
   "source": [
    "eta = config.learn_rate\n",
    "epochs = config.epochs\n",
    "batch_size = config.batch_size\n",
    "optimizer = config.optimizer\n",
    "weight_init = config.weight_init\n",
    "alpha = config.alpha\n",
    "\n",
    "# batch_size = 1 for stochastic and batch_size = len(train_x) for batch updates\n",
    "#available_optimizers = [\"gradient_descent\", \"momentum_gradient_descent\", \"nesterov_accelerated_gradient_descent\", \"rmsprop\", \"adam\", \"nadam\"]\n",
    "\n",
    "weights, train_loss, train_accuracy, test_loss, test_accuracy = train(train_x, train_y, test_x, test_y, nn_layers, epochs, eta, batch_size, optimizer, weight_init, alpha,func='cross_entropy')"
   ]
  },
  {
   "cell_type": "code",
   "execution_count": 24,
   "metadata": {},
   "outputs": [],
   "source": [
    "# save the optimized weights\n",
    "with open('weights.pickle', 'wb') as handle:\n",
    "    pickle.dump(weights, handle, protocol=pickle.HIGHEST_PROTOCOL)\n",
    "\n",
    "# load previously saved weights\n",
    "with open('weights.pickle', 'rb') as handle:\n",
    "    weights = pickle.load(handle)"
   ]
  },
  {
   "cell_type": "code",
   "execution_count": 25,
   "metadata": {},
   "outputs": [
    {
     "data": {
      "text/plain": [
       "[0.36828835811388255,\n",
       " 0.3249797423326323,\n",
       " 0.3087537292946356,\n",
       " 0.30540125228797793,\n",
       " 0.2982898713687454,\n",
       " 0.28359473162178495,\n",
       " 0.25095979071028673,\n",
       " 0.25881762222274585,\n",
       " 0.25214937231774937,\n",
       " 0.24082334119071364]"
      ]
     },
     "execution_count": 25,
     "metadata": {},
     "output_type": "execute_result"
    }
   ],
   "source": [
    "train_loss"
   ]
  },
  {
   "cell_type": "code",
   "execution_count": 26,
   "metadata": {},
   "outputs": [
    {
     "data": {
      "text/plain": [
       "[0.864,\n",
       " 0.8810666666666667,\n",
       " 0.8878,\n",
       " 0.8866666666666667,\n",
       " 0.8871333333333333,\n",
       " 0.8960666666666667,\n",
       " 0.9052333333333333,\n",
       " 0.9044666666666666,\n",
       " 0.9041333333333333,\n",
       " 0.9088833333333334]"
      ]
     },
     "execution_count": 26,
     "metadata": {},
     "output_type": "execute_result"
    }
   ],
   "source": [
    "train_accuracy"
   ]
  },
  {
   "cell_type": "code",
   "execution_count": 27,
   "metadata": {},
   "outputs": [
    {
     "data": {
      "text/plain": [
       "{'n_layers': 4, 'hidden_layer_size': 128, 'learn_rate': 0.001, 'batch_size': 16, 'epochs': 10, 'alpha': 0, 'optimizer': 'nadam', 'activation': 'relu', 'weight_init': 'random'}"
      ]
     },
     "execution_count": 27,
     "metadata": {},
     "output_type": "execute_result"
    }
   ],
   "source": [
    "config"
   ]
  },
  {
   "cell_type": "code",
   "execution_count": 29,
   "metadata": {},
   "outputs": [
    {
     "data": {
      "text/plain": [
       "[0.8508,\n",
       " 0.8602,\n",
       " 0.8665,\n",
       " 0.8656,\n",
       " 0.8651,\n",
       " 0.8728,\n",
       " 0.8828,\n",
       " 0.8793,\n",
       " 0.8764,\n",
       " 0.8762]"
      ]
     },
     "execution_count": 29,
     "metadata": {},
     "output_type": "execute_result"
    }
   ],
   "source": [
    "test_accuracy"
   ]
  },
  {
   "cell_type": "code",
   "execution_count": 31,
   "metadata": {},
   "outputs": [
    {
     "data": {
      "text/plain": [
       "[0.4131814313432518,\n",
       " 0.3808898160213578,\n",
       " 0.38123229654930535,\n",
       " 0.3853963410943291,\n",
       " 0.3847895721349928,\n",
       " 0.3797932195219869,\n",
       " 0.362277435188562,\n",
       " 0.3781911944795003,\n",
       " 0.3748973560956223,\n",
       " 0.36904045586753553]"
      ]
     },
     "execution_count": 31,
     "metadata": {},
     "output_type": "execute_result"
    }
   ],
   "source": [
    "test_loss"
   ]
  },
  {
   "cell_type": "code",
   "execution_count": 32,
   "metadata": {},
   "outputs": [],
   "source": [
    "from sklearn.metrics import confusion_matrix\n",
    "import seaborn as sns"
   ]
  },
  {
   "cell_type": "code",
   "execution_count": 34,
   "metadata": {},
   "outputs": [
    {
     "name": "stdout",
     "output_type": "stream",
     "text": [
      "Training Confusion Matrix\n",
      "\n",
      "[[5402    5   62  117   20    4  353    0   37    0]\n",
      " [   5 5894    2   63   20    0    8    1    6    1]\n",
      " [  42    1 4570   72  790    1  504    0   20    0]\n",
      " [ 105   14   13 5559  243    0   52    0   14    0]\n",
      " [   1    3  244  132 5327    1  258    0   34    0]\n",
      " [   1    1    0    0    0 5907    0   76    0   15]\n",
      " [ 794    3  250  119  433    0 4343    0   58    0]\n",
      " [   0    0    0    0    0   20    0 5897    3   80]\n",
      " [   3    1    3    7   18    3   13    1 5951    0]\n",
      " [   0    0    0    0    0   22    0  293    2 5683]]\n",
      "\n",
      "\n",
      "Test Confusion Matrix\n",
      "\n",
      "[[862   1  15  24   6   1  81   0  10   0]\n",
      " [  3 970   1  16   6   0   4   0   0   0]\n",
      " [ 16   0 702  17 147   0 116   0   2   0]\n",
      " [ 23   7  12 884  49   0  16   0   9   0]\n",
      " [  1   0  64  32 840   0  57   0   6   0]\n",
      " [  0   0   0   0   0 954   0  34   1  11]\n",
      " [133   2  49  35  91   0 674   0  16   0]\n",
      " [  0   0   0   0   0   9   0 970   0  21]\n",
      " [  5   0   1   2   3   4   5   4 976   0]\n",
      " [  0   0   0   1   0   5   1  63   0 930]]\n"
     ]
    }
   ],
   "source": [
    "train_y_vec = np.argmax(train_y,axis=1)\n",
    "test_y_vec = np.argmax(test_y,axis=1)\n",
    "y_hat_train,layer_train_output = forward_prop(train_x, weights, nn_layers)\n",
    "y_hat_test,layer_test_output = forward_prop(test_x, weights, nn_layers)\n",
    "y_hat_train = np.argmax(y_hat_train,axis=1)\n",
    "y_hat_test = np.argmax(y_hat_test,axis=1)\n",
    "cm_train = confusion_matrix(train_y_vec,y_hat_train)\n",
    "cm_test = confusion_matrix(test_y_vec,y_hat_test)\n",
    "print('Training Confusion Matrix\\n')\n",
    "print(cm_train)\n",
    "print('\\n\\nTest Confusion Matrix\\n')\n",
    "print(cm_test)"
   ]
  },
  {
   "cell_type": "code",
   "execution_count": 35,
   "metadata": {},
   "outputs": [
    {
     "name": "stdout",
     "output_type": "stream",
     "text": [
      "Training Confusion Matrix\n",
      "\n"
     ]
    },
    {
     "data": {
      "image/png": "[encoded data removed]",
      "text/plain": [
       "<Figure size 432x288 with 2 Axes>"
      ]
     },
     "metadata": {
      "needs_background": "light"
     },
     "output_type": "display_data"
    }
   ],
   "source": [
    "print('Training Confusion Matrix\\n')\n",
    "ax_train = sns.heatmap(cm_train)\n",
    "wandb.log({\"Confusion Matrix Train\": wandb.Image(ax_train)})"
   ]
  },
  {
   "cell_type": "code",
   "execution_count": 36,
   "metadata": {},
   "outputs": [
    {
     "name": "stdout",
     "output_type": "stream",
     "text": [
      "Test Confusion Matrix\n",
      "\n"
     ]
    },
    {
     "data": {
      "image/png": "[encoded data removed]",
      "text/plain": [
       "<Figure size 432x288 with 2 Axes>"
      ]
     },
     "metadata": {
      "needs_background": "light"
     },
     "output_type": "display_data"
    }
   ],
   "source": [
    "print('Test Confusion Matrix\\n')\n",
    "ax_test = sns.heatmap(cm_test)\n",
    "wandb.log({\"Confusion Matrix Test\": wandb.Image(ax_test)})"
   ]
  }
 ],
 "metadata": {
  "colab": {
   "collapsed_sections": [],
   "name": "CS6910_Assignment_1.ipynb",
   "provenance": []
  },
  "kernelspec": {
   "display_name": "Python 3",
   "language": "python",
   "name": "python3"
  },
  "language_info": {
   "codemirror_mode": {
    "name": "ipython",
    "version": 3
   },
   "file_extension": ".py",
   "mimetype": "text/x-python",
   "name": "python",
   "nbconvert_exporter": "python",
   "pygments_lexer": "ipython3",
   "version": "3.7.3"
  }
 },
 "nbformat": 4,
 "nbformat_minor": 1
}
